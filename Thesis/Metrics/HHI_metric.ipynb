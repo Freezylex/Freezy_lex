{
 "cells": [
  {
   "cell_type": "code",
   "execution_count": 1,
   "id": "a673e7b3",
   "metadata": {},
   "outputs": [],
   "source": [
    "import pandas as pd\n",
    "import numpy as np\n",
    "import os \n",
    "from tqdm import tqdm\n",
    "import matplotlib.pyplot as plt\n",
    "import seaborn as sns\n",
    "from sklearn.linear_model import LinearRegression\n",
    "\n",
    "base_path = '/Users/freezylex/Documents/course_work/'"
   ]
  },
  {
   "cell_type": "markdown",
   "id": "724a0ebd",
   "metadata": {},
   "source": [
    "# Herfindahl Index"
   ]
  },
  {
   "cell_type": "markdown",
   "id": "85aeeefd",
   "metadata": {},
   "source": [
    "### Basic hhi calculation function"
   ]
  },
  {
   "cell_type": "code",
   "execution_count": 2,
   "id": "1b4a2cd4",
   "metadata": {},
   "outputs": [],
   "source": [
    "def calc_hhi(base_path, file_path, byusell, bond):\n",
    "    try:\n",
    "        file = pd.read_csv(base_path + file_path, \n",
    "                        index_col = 'Unnamed: 0')\n",
    "        file['SECCODE'] = file['SECCODE'].apply(lambda x: x[:-1])\n",
    "        t_file = file[(file['BUYSELL'] == byusell) & (file['SECCODE'] == bond)]\n",
    "        t_file['PRICE'] = np.round(t_file['PRICE'], 4)\n",
    "        try:\n",
    "            hhi = t_file.groupby('PRICE').sum()['VOLUME'] / t_file.VOLUME.sum()\n",
    "            if (hhi ** 2).sum() == 0:\n",
    "                return 1\n",
    "            return (hhi ** 2).sum()\n",
    "        except:\n",
    "            return 1\n",
    "    except:\n",
    "        return -100"
   ]
  },
  {
   "cell_type": "code",
   "execution_count": 3,
   "id": "6287340c",
   "metadata": {},
   "outputs": [],
   "source": [
    "def make_hhi_metric(rates_df, b_path, type_deal, type_deal_2 = None):\n",
    "    list_of_bonds = rates_df.columns.values\n",
    "    date_range = rates_df.index\n",
    "    metric_df = pd.DataFrame(columns = list_of_bonds,\n",
    "                            index = date_range)\n",
    "    for date in tqdm(date_range):\n",
    "        real_date = date\n",
    "        date = date.to_pydatetime()\n",
    "        year = date.year\n",
    "        month = date.month\n",
    "        day = date.day\n",
    "        if month < 10:\n",
    "            month = ('0' + str(month))\n",
    "        else:\n",
    "            month = str(month)\n",
    "        if day < 10:\n",
    "            day = ('0' + str(day))\n",
    "        else:\n",
    "            day = str(day)\n",
    "        date = str(year) + month + day\n",
    "        name = 'OrderLog' + date + '.csv'\n",
    "        path_to_file = 'data/raw_data/Trading_dates_Order_Log/' + name\n",
    "        for bond_name in list_of_bonds:\n",
    "            hhi = calc_hhi(b_path, path_to_file, type_deal, bond_name)\n",
    "            if type_deal_2:\n",
    "                hhi_2 = calc_hhi(b_path, path_to_file, type_deal_2, bond_name)\n",
    "                metric_df.loc[real_date, bond_name] = max(hhi, hhi_2)\n",
    "            else:\n",
    "                metric_df.loc[real_date, bond_name] = hhi\n",
    "    return metric_df"
   ]
  },
  {
   "cell_type": "code",
   "execution_count": 4,
   "id": "0603efa7",
   "metadata": {},
   "outputs": [
    {
     "data": {
      "text/html": [
       "<div>\n",
       "<style scoped>\n",
       "    .dataframe tbody tr th:only-of-type {\n",
       "        vertical-align: middle;\n",
       "    }\n",
       "\n",
       "    .dataframe tbody tr th {\n",
       "        vertical-align: top;\n",
       "    }\n",
       "\n",
       "    .dataframe thead th {\n",
       "        text-align: right;\n",
       "    }\n",
       "</style>\n",
       "<table border=\"1\" class=\"dataframe\">\n",
       "  <thead>\n",
       "    <tr style=\"text-align: right;\">\n",
       "      <th></th>\n",
       "      <th>SU26214RMFS</th>\n",
       "      <th>SU26215RMFS</th>\n",
       "      <th>SU26216RMFS</th>\n",
       "      <th>SU26217RMFS</th>\n",
       "      <th>SU26218RMFS</th>\n",
       "      <th>SU26203RMFS</th>\n",
       "      <th>SU26204RMFS</th>\n",
       "      <th>SU26205RMFS</th>\n",
       "      <th>SU26206RMFS</th>\n",
       "      <th>SU26207RMFS</th>\n",
       "      <th>SU26208RMFS</th>\n",
       "      <th>SU26209RMFS</th>\n",
       "      <th>SU26210RMFS</th>\n",
       "      <th>SU26211RMFS</th>\n",
       "      <th>SU26212RMFS</th>\n",
       "    </tr>\n",
       "    <tr>\n",
       "      <th>Date</th>\n",
       "      <th></th>\n",
       "      <th></th>\n",
       "      <th></th>\n",
       "      <th></th>\n",
       "      <th></th>\n",
       "      <th></th>\n",
       "      <th></th>\n",
       "      <th></th>\n",
       "      <th></th>\n",
       "      <th></th>\n",
       "      <th></th>\n",
       "      <th></th>\n",
       "      <th></th>\n",
       "      <th></th>\n",
       "      <th></th>\n",
       "    </tr>\n",
       "  </thead>\n",
       "  <tbody>\n",
       "    <tr>\n",
       "      <th>2015-03-02</th>\n",
       "      <td>71.054960</td>\n",
       "      <td>15.591795</td>\n",
       "      <td>52.374278</td>\n",
       "      <td>64.990138</td>\n",
       "      <td>-169.664339</td>\n",
       "      <td>-215.003930</td>\n",
       "      <td>-6.438351</td>\n",
       "      <td>69.280317</td>\n",
       "      <td>-77.673548</td>\n",
       "      <td>-82.483912</td>\n",
       "      <td>45.211617</td>\n",
       "      <td>46.084832</td>\n",
       "      <td>65.853786</td>\n",
       "      <td>32.091102</td>\n",
       "      <td>-103.946423</td>\n",
       "    </tr>\n",
       "    <tr>\n",
       "      <th>2015-03-03</th>\n",
       "      <td>-7.712548</td>\n",
       "      <td>-45.530358</td>\n",
       "      <td>-17.835183</td>\n",
       "      <td>-14.148114</td>\n",
       "      <td>-187.530919</td>\n",
       "      <td>-263.409824</td>\n",
       "      <td>-59.776986</td>\n",
       "      <td>-10.913728</td>\n",
       "      <td>-120.289471</td>\n",
       "      <td>-113.189118</td>\n",
       "      <td>-22.483303</td>\n",
       "      <td>-26.540902</td>\n",
       "      <td>-9.923194</td>\n",
       "      <td>-35.261262</td>\n",
       "      <td>-130.308823</td>\n",
       "    </tr>\n",
       "  </tbody>\n",
       "</table>\n",
       "</div>"
      ],
      "text/plain": [
       "            SU26214RMFS  SU26215RMFS  SU26216RMFS  SU26217RMFS  SU26218RMFS  \\\n",
       "Date                                                                          \n",
       "2015-03-02    71.054960    15.591795    52.374278    64.990138  -169.664339   \n",
       "2015-03-03    -7.712548   -45.530358   -17.835183   -14.148114  -187.530919   \n",
       "\n",
       "            SU26203RMFS  SU26204RMFS  SU26205RMFS  SU26206RMFS  SU26207RMFS  \\\n",
       "Date                                                                          \n",
       "2015-03-02  -215.003930    -6.438351    69.280317   -77.673548   -82.483912   \n",
       "2015-03-03  -263.409824   -59.776986   -10.913728  -120.289471  -113.189118   \n",
       "\n",
       "            SU26208RMFS  SU26209RMFS  SU26210RMFS  SU26211RMFS  SU26212RMFS  \n",
       "Date                                                                         \n",
       "2015-03-02    45.211617    46.084832    65.853786    32.091102  -103.946423  \n",
       "2015-03-03   -22.483303   -26.540902    -9.923194   -35.261262  -130.308823  "
      ]
     },
     "execution_count": 4,
     "metadata": {},
     "output_type": "execute_result"
    }
   ],
   "source": [
    "rates = pd.read_excel(base_path + 'data/final_target.xlsx',\n",
    "                      index_col = 'Date', parse_dates=True)\n",
    "rates.head(2)"
   ]
  },
  {
   "cell_type": "markdown",
   "id": "ed65695c",
   "metadata": {},
   "source": [
    "## HHI based in byu-deals"
   ]
  },
  {
   "cell_type": "code",
   "execution_count": 5,
   "id": "3bf8f0bf",
   "metadata": {},
   "outputs": [
    {
     "name": "stderr",
     "output_type": "stream",
     "text": [
      "  0%|          | 0/235 [00:00<?, ?it/s]<ipython-input-2-c5ba4d93e284>:7: SettingWithCopyWarning: \n",
      "A value is trying to be set on a copy of a slice from a DataFrame.\n",
      "Try using .loc[row_indexer,col_indexer] = value instead\n",
      "\n",
      "See the caveats in the documentation: https://pandas.pydata.org/pandas-docs/stable/user_guide/indexing.html#returning-a-view-versus-a-copy\n",
      "  t_file['PRICE'] = np.round(t_file['PRICE'], 4)\n",
      "100%|██████████| 235/235 [00:48<00:00,  4.85it/s]\n"
     ]
    },
    {
     "data": {
      "text/html": [
       "<div>\n",
       "<style scoped>\n",
       "    .dataframe tbody tr th:only-of-type {\n",
       "        vertical-align: middle;\n",
       "    }\n",
       "\n",
       "    .dataframe tbody tr th {\n",
       "        vertical-align: top;\n",
       "    }\n",
       "\n",
       "    .dataframe thead th {\n",
       "        text-align: right;\n",
       "    }\n",
       "</style>\n",
       "<table border=\"1\" class=\"dataframe\">\n",
       "  <thead>\n",
       "    <tr style=\"text-align: right;\">\n",
       "      <th></th>\n",
       "      <th>SU26214RMFS</th>\n",
       "      <th>SU26215RMFS</th>\n",
       "      <th>SU26216RMFS</th>\n",
       "      <th>SU26217RMFS</th>\n",
       "      <th>SU26218RMFS</th>\n",
       "      <th>SU26203RMFS</th>\n",
       "      <th>SU26204RMFS</th>\n",
       "      <th>SU26205RMFS</th>\n",
       "      <th>SU26206RMFS</th>\n",
       "      <th>SU26207RMFS</th>\n",
       "      <th>SU26208RMFS</th>\n",
       "      <th>SU26209RMFS</th>\n",
       "      <th>SU26210RMFS</th>\n",
       "      <th>SU26211RMFS</th>\n",
       "      <th>SU26212RMFS</th>\n",
       "    </tr>\n",
       "    <tr>\n",
       "      <th>Date</th>\n",
       "      <th></th>\n",
       "      <th></th>\n",
       "      <th></th>\n",
       "      <th></th>\n",
       "      <th></th>\n",
       "      <th></th>\n",
       "      <th></th>\n",
       "      <th></th>\n",
       "      <th></th>\n",
       "      <th></th>\n",
       "      <th></th>\n",
       "      <th></th>\n",
       "      <th></th>\n",
       "      <th></th>\n",
       "      <th></th>\n",
       "    </tr>\n",
       "  </thead>\n",
       "  <tbody>\n",
       "    <tr>\n",
       "      <th>2016-02-18</th>\n",
       "      <td>0.124909</td>\n",
       "      <td>0.080166</td>\n",
       "      <td>0.291719</td>\n",
       "      <td>0.165064</td>\n",
       "      <td>0.05763</td>\n",
       "      <td>0.24961</td>\n",
       "      <td>0.099918</td>\n",
       "      <td>0.337197</td>\n",
       "      <td>0.087716</td>\n",
       "      <td>0.054693</td>\n",
       "      <td>0.141984</td>\n",
       "      <td>0.126488</td>\n",
       "      <td>0.106055</td>\n",
       "      <td>0.076229</td>\n",
       "      <td>0.085921</td>\n",
       "    </tr>\n",
       "    <tr>\n",
       "      <th>2016-02-19</th>\n",
       "      <td>0.093769</td>\n",
       "      <td>0.080413</td>\n",
       "      <td>0.104839</td>\n",
       "      <td>0.157991</td>\n",
       "      <td>0.090267</td>\n",
       "      <td>0.088907</td>\n",
       "      <td>0.094021</td>\n",
       "      <td>0.11701</td>\n",
       "      <td>0.109359</td>\n",
       "      <td>0.081217</td>\n",
       "      <td>0.105004</td>\n",
       "      <td>0.216018</td>\n",
       "      <td>0.31426</td>\n",
       "      <td>0.148718</td>\n",
       "      <td>0.099729</td>\n",
       "    </tr>\n",
       "  </tbody>\n",
       "</table>\n",
       "</div>"
      ],
      "text/plain": [
       "           SU26214RMFS SU26215RMFS SU26216RMFS SU26217RMFS SU26218RMFS  \\\n",
       "Date                                                                     \n",
       "2016-02-18    0.124909    0.080166    0.291719    0.165064     0.05763   \n",
       "2016-02-19    0.093769    0.080413    0.104839    0.157991    0.090267   \n",
       "\n",
       "           SU26203RMFS SU26204RMFS SU26205RMFS SU26206RMFS SU26207RMFS  \\\n",
       "Date                                                                     \n",
       "2016-02-18     0.24961    0.099918    0.337197    0.087716    0.054693   \n",
       "2016-02-19    0.088907    0.094021     0.11701    0.109359    0.081217   \n",
       "\n",
       "           SU26208RMFS SU26209RMFS SU26210RMFS SU26211RMFS SU26212RMFS  \n",
       "Date                                                                    \n",
       "2016-02-18    0.141984    0.126488    0.106055    0.076229    0.085921  \n",
       "2016-02-19    0.105004    0.216018     0.31426    0.148718    0.099729  "
      ]
     },
     "execution_count": 5,
     "metadata": {},
     "output_type": "execute_result"
    }
   ],
   "source": [
    "bid_hhi = make_hhi_metric(rates, base_path, 'B')\n",
    "bid_hhi.tail(2)"
   ]
  },
  {
   "cell_type": "code",
   "execution_count": 6,
   "id": "229dcd55",
   "metadata": {},
   "outputs": [],
   "source": [
    "bid_hhi[bid_hhi == -100] = np.nan"
   ]
  },
  {
   "cell_type": "code",
   "execution_count": 7,
   "id": "6b05dafc",
   "metadata": {},
   "outputs": [
    {
     "data": {
      "text/plain": [
       "15"
      ]
     },
     "execution_count": 7,
     "metadata": {},
     "output_type": "execute_result"
    }
   ],
   "source": [
    "bid_hhi.isna().sum().sum()"
   ]
  },
  {
   "cell_type": "code",
   "execution_count": 8,
   "id": "d712d80e",
   "metadata": {},
   "outputs": [],
   "source": [
    "bid_hhi *= 100"
   ]
  },
  {
   "cell_type": "code",
   "execution_count": 36,
   "id": "8b7a048f",
   "metadata": {},
   "outputs": [
    {
     "data": {
      "image/png": "[encoded data removed]",
      "text/plain": [
       "<Figure size 1080x720 with 1 Axes>"
      ]
     },
     "metadata": {
      "needs_background": "light"
     },
     "output_type": "display_data"
    }
   ],
   "source": [
    "bond = 'SU26209RMFS'\n",
    "\n",
    "fig, ax = plt.subplots(figsize=(15, 10))\n",
    "sns.scatterplot(x = bid_hhi[bond], y = rates[bond])\n",
    "plt.show()"
   ]
  },
  {
   "cell_type": "markdown",
   "id": "5500df0d",
   "metadata": {},
   "source": [
    "## HHI based in sell-deals"
   ]
  },
  {
   "cell_type": "code",
   "execution_count": 37,
   "id": "3b4a622e",
   "metadata": {},
   "outputs": [
    {
     "name": "stderr",
     "output_type": "stream",
     "text": [
      "100%|██████████| 235/235 [00:52<00:00,  4.50it/s]\n"
     ]
    },
    {
     "data": {
      "text/html": [
       "<div>\n",
       "<style scoped>\n",
       "    .dataframe tbody tr th:only-of-type {\n",
       "        vertical-align: middle;\n",
       "    }\n",
       "\n",
       "    .dataframe tbody tr th {\n",
       "        vertical-align: top;\n",
       "    }\n",
       "\n",
       "    .dataframe thead th {\n",
       "        text-align: right;\n",
       "    }\n",
       "</style>\n",
       "<table border=\"1\" class=\"dataframe\">\n",
       "  <thead>\n",
       "    <tr style=\"text-align: right;\">\n",
       "      <th></th>\n",
       "      <th>SU26214RMFS</th>\n",
       "      <th>SU26215RMFS</th>\n",
       "      <th>SU26216RMFS</th>\n",
       "      <th>SU26217RMFS</th>\n",
       "      <th>SU26218RMFS</th>\n",
       "      <th>SU26203RMFS</th>\n",
       "      <th>SU26204RMFS</th>\n",
       "      <th>SU26205RMFS</th>\n",
       "      <th>SU26206RMFS</th>\n",
       "      <th>SU26207RMFS</th>\n",
       "      <th>SU26208RMFS</th>\n",
       "      <th>SU26209RMFS</th>\n",
       "      <th>SU26210RMFS</th>\n",
       "      <th>SU26211RMFS</th>\n",
       "      <th>SU26212RMFS</th>\n",
       "    </tr>\n",
       "    <tr>\n",
       "      <th>Date</th>\n",
       "      <th></th>\n",
       "      <th></th>\n",
       "      <th></th>\n",
       "      <th></th>\n",
       "      <th></th>\n",
       "      <th></th>\n",
       "      <th></th>\n",
       "      <th></th>\n",
       "      <th></th>\n",
       "      <th></th>\n",
       "      <th></th>\n",
       "      <th></th>\n",
       "      <th></th>\n",
       "      <th></th>\n",
       "      <th></th>\n",
       "    </tr>\n",
       "  </thead>\n",
       "  <tbody>\n",
       "    <tr>\n",
       "      <th>2016-02-18</th>\n",
       "      <td>0.17764</td>\n",
       "      <td>0.117053</td>\n",
       "      <td>0.175388</td>\n",
       "      <td>0.364607</td>\n",
       "      <td>0.072484</td>\n",
       "      <td>0.23484</td>\n",
       "      <td>0.098264</td>\n",
       "      <td>0.378616</td>\n",
       "      <td>0.138651</td>\n",
       "      <td>0.101992</td>\n",
       "      <td>0.182034</td>\n",
       "      <td>0.129214</td>\n",
       "      <td>0.166938</td>\n",
       "      <td>0.091143</td>\n",
       "      <td>0.111874</td>\n",
       "    </tr>\n",
       "    <tr>\n",
       "      <th>2016-02-19</th>\n",
       "      <td>0.117711</td>\n",
       "      <td>0.09948</td>\n",
       "      <td>0.166054</td>\n",
       "      <td>0.840974</td>\n",
       "      <td>0.097716</td>\n",
       "      <td>0.175117</td>\n",
       "      <td>0.11043</td>\n",
       "      <td>0.102509</td>\n",
       "      <td>0.112248</td>\n",
       "      <td>0.06245</td>\n",
       "      <td>0.132028</td>\n",
       "      <td>0.156279</td>\n",
       "      <td>0.169853</td>\n",
       "      <td>0.124835</td>\n",
       "      <td>0.075136</td>\n",
       "    </tr>\n",
       "  </tbody>\n",
       "</table>\n",
       "</div>"
      ],
      "text/plain": [
       "           SU26214RMFS SU26215RMFS SU26216RMFS SU26217RMFS SU26218RMFS  \\\n",
       "Date                                                                     \n",
       "2016-02-18     0.17764    0.117053    0.175388    0.364607    0.072484   \n",
       "2016-02-19    0.117711     0.09948    0.166054    0.840974    0.097716   \n",
       "\n",
       "           SU26203RMFS SU26204RMFS SU26205RMFS SU26206RMFS SU26207RMFS  \\\n",
       "Date                                                                     \n",
       "2016-02-18     0.23484    0.098264    0.378616    0.138651    0.101992   \n",
       "2016-02-19    0.175117     0.11043    0.102509    0.112248     0.06245   \n",
       "\n",
       "           SU26208RMFS SU26209RMFS SU26210RMFS SU26211RMFS SU26212RMFS  \n",
       "Date                                                                    \n",
       "2016-02-18    0.182034    0.129214    0.166938    0.091143    0.111874  \n",
       "2016-02-19    0.132028    0.156279    0.169853    0.124835    0.075136  "
      ]
     },
     "execution_count": 37,
     "metadata": {},
     "output_type": "execute_result"
    }
   ],
   "source": [
    "sell_hhi = make_hhi_metric(rates, base_path, 'S')\n",
    "sell_hhi.tail(2)"
   ]
  },
  {
   "cell_type": "code",
   "execution_count": 38,
   "id": "e3e8f540",
   "metadata": {},
   "outputs": [
    {
     "data": {
      "text/plain": [
       "15"
      ]
     },
     "execution_count": 38,
     "metadata": {},
     "output_type": "execute_result"
    }
   ],
   "source": [
    "sell_hhi[sell_hhi == -100] = np.nan\n",
    "sell_hhi *= 100\n",
    "sell_hhi.isna().sum().sum()"
   ]
  },
  {
   "cell_type": "code",
   "execution_count": 40,
   "id": "158cbca1",
   "metadata": {},
   "outputs": [
    {
     "data": {
      "image/png": "[encoded data removed]",
      "text/plain": [
       "<Figure size 1080x720 with 1 Axes>"
      ]
     },
     "metadata": {
      "needs_background": "light"
     },
     "output_type": "display_data"
    }
   ],
   "source": [
    "bond = 'SU26209RMFS'\n",
    "\n",
    "fig, ax = plt.subplots(figsize=(15, 10))\n",
    "sns.scatterplot(x = sell_hhi[bond], y = rates[bond])\n",
    "plt.show()"
   ]
  },
  {
   "cell_type": "code",
   "execution_count": 42,
   "id": "504a717a",
   "metadata": {},
   "outputs": [],
   "source": [
    "sell_hhi.to_csv(os.path.join(base_path, 'data/metrics/ask_hhi.csv'))\n",
    "bid_hhi.to_csv(os.path.join(base_path, 'data/metrics/bid_hhi.csv'))"
   ]
  },
  {
   "cell_type": "markdown",
   "id": "3273c77e",
   "metadata": {},
   "source": [
    "## Max"
   ]
  },
  {
   "cell_type": "code",
   "execution_count": 5,
   "id": "f9973834",
   "metadata": {},
   "outputs": [
    {
     "name": "stderr",
     "output_type": "stream",
     "text": [
      "  0%|          | 0/235 [00:00<?, ?it/s]<ipython-input-2-c5ba4d93e284>:7: SettingWithCopyWarning: \n",
      "A value is trying to be set on a copy of a slice from a DataFrame.\n",
      "Try using .loc[row_indexer,col_indexer] = value instead\n",
      "\n",
      "See the caveats in the documentation: https://pandas.pydata.org/pandas-docs/stable/user_guide/indexing.html#returning-a-view-versus-a-copy\n",
      "  t_file['PRICE'] = np.round(t_file['PRICE'], 4)\n",
      "100%|██████████| 235/235 [01:40<00:00,  2.35it/s]\n"
     ]
    },
    {
     "data": {
      "text/html": [
       "<div>\n",
       "<style scoped>\n",
       "    .dataframe tbody tr th:only-of-type {\n",
       "        vertical-align: middle;\n",
       "    }\n",
       "\n",
       "    .dataframe tbody tr th {\n",
       "        vertical-align: top;\n",
       "    }\n",
       "\n",
       "    .dataframe thead th {\n",
       "        text-align: right;\n",
       "    }\n",
       "</style>\n",
       "<table border=\"1\" class=\"dataframe\">\n",
       "  <thead>\n",
       "    <tr style=\"text-align: right;\">\n",
       "      <th></th>\n",
       "      <th>SU26214RMFS</th>\n",
       "      <th>SU26215RMFS</th>\n",
       "      <th>SU26216RMFS</th>\n",
       "      <th>SU26217RMFS</th>\n",
       "      <th>SU26218RMFS</th>\n",
       "      <th>SU26203RMFS</th>\n",
       "      <th>SU26204RMFS</th>\n",
       "      <th>SU26205RMFS</th>\n",
       "      <th>SU26206RMFS</th>\n",
       "      <th>SU26207RMFS</th>\n",
       "      <th>SU26208RMFS</th>\n",
       "      <th>SU26209RMFS</th>\n",
       "      <th>SU26210RMFS</th>\n",
       "      <th>SU26211RMFS</th>\n",
       "      <th>SU26212RMFS</th>\n",
       "    </tr>\n",
       "    <tr>\n",
       "      <th>Date</th>\n",
       "      <th></th>\n",
       "      <th></th>\n",
       "      <th></th>\n",
       "      <th></th>\n",
       "      <th></th>\n",
       "      <th></th>\n",
       "      <th></th>\n",
       "      <th></th>\n",
       "      <th></th>\n",
       "      <th></th>\n",
       "      <th></th>\n",
       "      <th></th>\n",
       "      <th></th>\n",
       "      <th></th>\n",
       "      <th></th>\n",
       "    </tr>\n",
       "  </thead>\n",
       "  <tbody>\n",
       "    <tr>\n",
       "      <th>2016-02-18</th>\n",
       "      <td>0.17764</td>\n",
       "      <td>0.117053</td>\n",
       "      <td>0.291719</td>\n",
       "      <td>0.364607</td>\n",
       "      <td>0.072484</td>\n",
       "      <td>0.24961</td>\n",
       "      <td>0.099918</td>\n",
       "      <td>0.378616</td>\n",
       "      <td>0.138651</td>\n",
       "      <td>0.101992</td>\n",
       "      <td>0.182034</td>\n",
       "      <td>0.129214</td>\n",
       "      <td>0.166938</td>\n",
       "      <td>0.091143</td>\n",
       "      <td>0.111874</td>\n",
       "    </tr>\n",
       "    <tr>\n",
       "      <th>2016-02-19</th>\n",
       "      <td>0.117711</td>\n",
       "      <td>0.09948</td>\n",
       "      <td>0.166054</td>\n",
       "      <td>0.840974</td>\n",
       "      <td>0.097716</td>\n",
       "      <td>0.175117</td>\n",
       "      <td>0.11043</td>\n",
       "      <td>0.11701</td>\n",
       "      <td>0.112248</td>\n",
       "      <td>0.081217</td>\n",
       "      <td>0.132028</td>\n",
       "      <td>0.216018</td>\n",
       "      <td>0.31426</td>\n",
       "      <td>0.148718</td>\n",
       "      <td>0.099729</td>\n",
       "    </tr>\n",
       "  </tbody>\n",
       "</table>\n",
       "</div>"
      ],
      "text/plain": [
       "           SU26214RMFS SU26215RMFS SU26216RMFS SU26217RMFS SU26218RMFS  \\\n",
       "Date                                                                     \n",
       "2016-02-18     0.17764    0.117053    0.291719    0.364607    0.072484   \n",
       "2016-02-19    0.117711     0.09948    0.166054    0.840974    0.097716   \n",
       "\n",
       "           SU26203RMFS SU26204RMFS SU26205RMFS SU26206RMFS SU26207RMFS  \\\n",
       "Date                                                                     \n",
       "2016-02-18     0.24961    0.099918    0.378616    0.138651    0.101992   \n",
       "2016-02-19    0.175117     0.11043     0.11701    0.112248    0.081217   \n",
       "\n",
       "           SU26208RMFS SU26209RMFS SU26210RMFS SU26211RMFS SU26212RMFS  \n",
       "Date                                                                    \n",
       "2016-02-18    0.182034    0.129214    0.166938    0.091143    0.111874  \n",
       "2016-02-19    0.132028    0.216018     0.31426    0.148718    0.099729  "
      ]
     },
     "execution_count": 5,
     "metadata": {},
     "output_type": "execute_result"
    }
   ],
   "source": [
    "max_hhi = make_hhi_metric(rates, base_path, 'B', 'S')\n",
    "max_hhi.tail(2)"
   ]
  },
  {
   "cell_type": "code",
   "execution_count": 6,
   "id": "43e86b5e",
   "metadata": {},
   "outputs": [
    {
     "data": {
      "text/plain": [
       "15"
      ]
     },
     "execution_count": 6,
     "metadata": {},
     "output_type": "execute_result"
    }
   ],
   "source": [
    "max_hhi[max_hhi == -100] = np.nan\n",
    "max_hhi *= 100\n",
    "max_hhi.isna().sum().sum()"
   ]
  },
  {
   "cell_type": "code",
   "execution_count": 7,
   "id": "24d084ba",
   "metadata": {},
   "outputs": [
    {
     "data": {
      "image/png": "[encoded data removed]",
      "text/plain": [
       "<Figure size 1080x720 with 1 Axes>"
      ]
     },
     "metadata": {
      "needs_background": "light"
     },
     "output_type": "display_data"
    }
   ],
   "source": [
    "bond = 'SU26215RMFS'\n",
    "\n",
    "fig, ax = plt.subplots(figsize=(15, 10))\n",
    "sns.scatterplot(x = max_hhi[bond], y = rates[bond])\n",
    "plt.show()"
   ]
  },
  {
   "cell_type": "code",
   "execution_count": 8,
   "id": "ec237a51",
   "metadata": {},
   "outputs": [],
   "source": [
    "max_hhi.to_csv(os.path.join(base_path, 'data/metrics/max_hhi.csv'))"
   ]
  }
 ],
 "metadata": {
  "kernelspec": {
   "display_name": "Python 3",
   "language": "python",
   "name": "python3"
  },
  "language_info": {
   "codemirror_mode": {
    "name": "ipython",
    "version": 3
   },
   "file_extension": ".py",
   "mimetype": "text/x-python",
   "name": "python",
   "nbconvert_exporter": "python",
   "pygments_lexer": "ipython3",
   "version": "3.8.8"
  }
 },
 "nbformat": 4,
 "nbformat_minor": 5
}
