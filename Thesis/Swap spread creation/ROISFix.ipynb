{
 "cells": [
  {
   "cell_type": "code",
   "execution_count": 1,
   "id": "cc8a09ac",
   "metadata": {},
   "outputs": [],
   "source": [
    "import pandas as pd\n",
    "import numpy as np\n",
    "import os\n",
    "base_path = '/Users/freezylex/Documents/course_work/'"
   ]
  },
  {
   "cell_type": "code",
   "execution_count": 2,
   "id": "a5b96a52",
   "metadata": {},
   "outputs": [
    {
     "data": {
      "text/html": [
       "<div>\n",
       "<style scoped>\n",
       "    .dataframe tbody tr th:only-of-type {\n",
       "        vertical-align: middle;\n",
       "    }\n",
       "\n",
       "    .dataframe tbody tr th {\n",
       "        vertical-align: top;\n",
       "    }\n",
       "\n",
       "    .dataframe thead th {\n",
       "        text-align: right;\n",
       "    }\n",
       "</style>\n",
       "<table border=\"1\" class=\"dataframe\">\n",
       "  <thead>\n",
       "    <tr style=\"text-align: right;\">\n",
       "      <th></th>\n",
       "      <th>Date</th>\n",
       "      <th>1W</th>\n",
       "      <th>2W</th>\n",
       "      <th>1M</th>\n",
       "      <th>2M</th>\n",
       "      <th>3M</th>\n",
       "      <th>6M</th>\n",
       "    </tr>\n",
       "  </thead>\n",
       "  <tbody>\n",
       "    <tr>\n",
       "      <th>0</th>\n",
       "      <td>2015-03-02</td>\n",
       "      <td>15.52</td>\n",
       "      <td>15.63</td>\n",
       "      <td>15.20</td>\n",
       "      <td>14.88</td>\n",
       "      <td>14.70</td>\n",
       "      <td>14.48</td>\n",
       "    </tr>\n",
       "    <tr>\n",
       "      <th>1</th>\n",
       "      <td>2015-03-03</td>\n",
       "      <td>15.58</td>\n",
       "      <td>15.65</td>\n",
       "      <td>15.18</td>\n",
       "      <td>14.93</td>\n",
       "      <td>14.76</td>\n",
       "      <td>14.56</td>\n",
       "    </tr>\n",
       "    <tr>\n",
       "      <th>2</th>\n",
       "      <td>2015-03-04</td>\n",
       "      <td>15.53</td>\n",
       "      <td>15.59</td>\n",
       "      <td>15.10</td>\n",
       "      <td>14.86</td>\n",
       "      <td>14.76</td>\n",
       "      <td>14.56</td>\n",
       "    </tr>\n",
       "    <tr>\n",
       "      <th>3</th>\n",
       "      <td>2015-03-05</td>\n",
       "      <td>15.51</td>\n",
       "      <td>15.56</td>\n",
       "      <td>15.07</td>\n",
       "      <td>14.84</td>\n",
       "      <td>14.75</td>\n",
       "      <td>14.55</td>\n",
       "    </tr>\n",
       "    <tr>\n",
       "      <th>4</th>\n",
       "      <td>2015-03-06</td>\n",
       "      <td>15.51</td>\n",
       "      <td>15.56</td>\n",
       "      <td>15.06</td>\n",
       "      <td>14.84</td>\n",
       "      <td>14.74</td>\n",
       "      <td>14.54</td>\n",
       "    </tr>\n",
       "  </tbody>\n",
       "</table>\n",
       "</div>"
      ],
      "text/plain": [
       "        Date     1W     2W     1M     2M     3M     6M\n",
       "0 2015-03-02  15.52  15.63  15.20  14.88  14.70  14.48\n",
       "1 2015-03-03  15.58  15.65  15.18  14.93  14.76  14.56\n",
       "2 2015-03-04  15.53  15.59  15.10  14.86  14.76  14.56\n",
       "3 2015-03-05  15.51  15.56  15.07  14.84  14.75  14.55\n",
       "4 2015-03-06  15.51  15.56  15.06  14.84  14.74  14.54"
      ]
     },
     "execution_count": 2,
     "metadata": {},
     "output_type": "execute_result"
    }
   ],
   "source": [
    "repo = pd.read_csv(os.path.join(base_path, 'data/raw_data/roisfix.csv'), header=1, sep=';', decimal=',')\n",
    "repo.columns = ['Date', '1W', '2W', '1M', '2M', '3M', '6M', '1Y', 'unt']\n",
    "repo.drop(columns=['unt', '1Y'], inplace=True)\n",
    "repo['Date'] = pd.to_datetime(repo['Date'], format='%d-%m-%Y')\n",
    "repo = repo[::-1].reset_index(drop=True)\n",
    "repo.dropna(inplace=True)\n",
    "repo.head()"
   ]
  },
  {
   "cell_type": "code",
   "execution_count": 3,
   "id": "3fc05a75",
   "metadata": {},
   "outputs": [],
   "source": [
    "repo.to_excel(os.path.join(base_path, 'data/raw_data/roisfix.xlsx'), \n",
    "                                    index=False)"
   ]
  },
  {
   "cell_type": "code",
   "execution_count": null,
   "id": "a005e00d",
   "metadata": {},
   "outputs": [],
   "source": []
  }
 ],
 "metadata": {
  "kernelspec": {
   "display_name": "Python 3",
   "language": "python",
   "name": "python3"
  },
  "language_info": {
   "codemirror_mode": {
    "name": "ipython",
    "version": 3
   },
   "file_extension": ".py",
   "mimetype": "text/x-python",
   "name": "python",
   "nbconvert_exporter": "python",
   "pygments_lexer": "ipython3",
   "version": "3.8.8"
  }
 },
 "nbformat": 4,
 "nbformat_minor": 5
}
