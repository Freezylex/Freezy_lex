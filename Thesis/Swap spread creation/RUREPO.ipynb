{
 "cells": [
  {
   "cell_type": "code",
   "execution_count": 4,
   "id": "f6e66211",
   "metadata": {},
   "outputs": [],
   "source": [
    "import pandas as pd\n",
    "import numpy as np\n",
    "import os\n",
    "base_path = '/Users/freezylex/Documents/course_work/'"
   ]
  },
  {
   "cell_type": "code",
   "execution_count": 5,
   "id": "febeb80b",
   "metadata": {},
   "outputs": [
    {
     "data": {
      "text/html": [
       "<div>\n",
       "<style scoped>\n",
       "    .dataframe tbody tr th:only-of-type {\n",
       "        vertical-align: middle;\n",
       "    }\n",
       "\n",
       "    .dataframe tbody tr th {\n",
       "        vertical-align: top;\n",
       "    }\n",
       "\n",
       "    .dataframe thead th {\n",
       "        text-align: right;\n",
       "    }\n",
       "</style>\n",
       "<table border=\"1\" class=\"dataframe\">\n",
       "  <thead>\n",
       "    <tr style=\"text-align: right;\">\n",
       "      <th></th>\n",
       "      <th>Date</th>\n",
       "      <th>overnight_rurepo</th>\n",
       "      <th>1W</th>\n",
       "      <th>2W</th>\n",
       "      <th>1M</th>\n",
       "    </tr>\n",
       "  </thead>\n",
       "  <tbody>\n",
       "    <tr>\n",
       "      <th>0</th>\n",
       "      <td>2015-03-02</td>\n",
       "      <td>15.83</td>\n",
       "      <td>16.00</td>\n",
       "      <td>16.50</td>\n",
       "      <td>17.05</td>\n",
       "    </tr>\n",
       "    <tr>\n",
       "      <th>1</th>\n",
       "      <td>2015-03-03</td>\n",
       "      <td>15.88</td>\n",
       "      <td>16.08</td>\n",
       "      <td>16.55</td>\n",
       "      <td>17.05</td>\n",
       "    </tr>\n",
       "    <tr>\n",
       "      <th>2</th>\n",
       "      <td>2015-03-04</td>\n",
       "      <td>15.85</td>\n",
       "      <td>16.04</td>\n",
       "      <td>16.35</td>\n",
       "      <td>16.85</td>\n",
       "    </tr>\n",
       "    <tr>\n",
       "      <th>3</th>\n",
       "      <td>2015-03-05</td>\n",
       "      <td>15.88</td>\n",
       "      <td>16.07</td>\n",
       "      <td>16.35</td>\n",
       "      <td>16.80</td>\n",
       "    </tr>\n",
       "    <tr>\n",
       "      <th>4</th>\n",
       "      <td>2015-03-06</td>\n",
       "      <td>15.74</td>\n",
       "      <td>16.00</td>\n",
       "      <td>16.50</td>\n",
       "      <td>17.06</td>\n",
       "    </tr>\n",
       "  </tbody>\n",
       "</table>\n",
       "</div>"
      ],
      "text/plain": [
       "        Date  overnight_rurepo     1W     2W     1M\n",
       "0 2015-03-02             15.83  16.00  16.50  17.05\n",
       "1 2015-03-03             15.88  16.08  16.55  17.05\n",
       "2 2015-03-04             15.85  16.04  16.35  16.85\n",
       "3 2015-03-05             15.88  16.07  16.35  16.80\n",
       "4 2015-03-06             15.74  16.00  16.50  17.06"
      ]
     },
     "execution_count": 5,
     "metadata": {},
     "output_type": "execute_result"
    }
   ],
   "source": [
    "repo = pd.read_csv(os.path.join(base_path, 'data/raw_data/rurepo.csv'), header=1, sep=';')\n",
    "repo.columns = ['Date', 'overnight_rurepo', '1W', '2W', '1M']\n",
    "repo['Date'] = pd.to_datetime(repo['Date'], format='%d.%m.%Y')\n",
    "repo = repo[::-1].reset_index(drop=True)\n",
    "repo.dropna(inplace=True)\n",
    "repo['overnight_rurepo'] = repo['overnight_rurepo'].apply(lambda x: float(x.replace(',', '.')))\n",
    "repo['1M'] = repo['1M'].apply(lambda x: float(x.replace(',', '.')))\n",
    "repo['1W'] = repo['1W'].apply(lambda x: float(x.replace(',', '.')))\n",
    "repo['2W'] = repo['2W'].apply(lambda x: float(x.replace(',', '.')))\n",
    "repo.head()"
   ]
  },
  {
   "cell_type": "code",
   "execution_count": 6,
   "id": "0c171ee6",
   "metadata": {},
   "outputs": [],
   "source": [
    "repo.to_excel(os.path.join(base_path, 'data/raw_data/rates_OTC_market/rurepo.xlsx'), \n",
    "                                    index=False)"
   ]
  },
  {
   "cell_type": "code",
   "execution_count": null,
   "id": "25d54d72",
   "metadata": {},
   "outputs": [],
   "source": []
  }
 ],
 "metadata": {
  "kernelspec": {
   "display_name": "Python 3",
   "language": "python",
   "name": "python3"
  },
  "language_info": {
   "codemirror_mode": {
    "name": "ipython",
    "version": 3
   },
   "file_extension": ".py",
   "mimetype": "text/x-python",
   "name": "python",
   "nbconvert_exporter": "python",
   "pygments_lexer": "ipython3",
   "version": "3.8.8"
  }
 },
 "nbformat": 4,
 "nbformat_minor": 5
}
