{
 "cells": [
  {
   "cell_type": "code",
   "execution_count": 1,
   "id": "f6e66211",
   "metadata": {},
   "outputs": [],
   "source": [
    "import pandas as pd\n",
    "import numpy as np\n",
    "import os\n",
    "base_path = '/Users/freezylex/Documents/course_work/'"
   ]
  },
  {
   "cell_type": "code",
   "execution_count": 2,
   "id": "febeb80b",
   "metadata": {},
   "outputs": [
    {
     "data": {
      "text/html": [
       "<div>\n",
       "<style scoped>\n",
       "    .dataframe tbody tr th:only-of-type {\n",
       "        vertical-align: middle;\n",
       "    }\n",
       "\n",
       "    .dataframe tbody tr th {\n",
       "        vertical-align: top;\n",
       "    }\n",
       "\n",
       "    .dataframe thead th {\n",
       "        text-align: right;\n",
       "    }\n",
       "</style>\n",
       "<table border=\"1\" class=\"dataframe\">\n",
       "  <thead>\n",
       "    <tr style=\"text-align: right;\">\n",
       "      <th></th>\n",
       "      <th>Date</th>\n",
       "      <th>overnight_mosprime</th>\n",
       "      <th>1W</th>\n",
       "      <th>2W</th>\n",
       "      <th>1M</th>\n",
       "      <th>2M</th>\n",
       "      <th>3M</th>\n",
       "      <th>6M</th>\n",
       "    </tr>\n",
       "  </thead>\n",
       "  <tbody>\n",
       "    <tr>\n",
       "      <th>0</th>\n",
       "      <td>2015-03-02</td>\n",
       "      <td>15.95</td>\n",
       "      <td>15.99</td>\n",
       "      <td>16.06</td>\n",
       "      <td>16.56</td>\n",
       "      <td>16.76</td>\n",
       "      <td>17.07</td>\n",
       "      <td>17.07</td>\n",
       "    </tr>\n",
       "    <tr>\n",
       "      <th>1</th>\n",
       "      <td>2015-03-03</td>\n",
       "      <td>15.96</td>\n",
       "      <td>15.98</td>\n",
       "      <td>16.06</td>\n",
       "      <td>16.55</td>\n",
       "      <td>16.76</td>\n",
       "      <td>17.06</td>\n",
       "      <td>17.09</td>\n",
       "    </tr>\n",
       "    <tr>\n",
       "      <th>2</th>\n",
       "      <td>2015-03-04</td>\n",
       "      <td>15.94</td>\n",
       "      <td>15.98</td>\n",
       "      <td>16.05</td>\n",
       "      <td>16.50</td>\n",
       "      <td>16.73</td>\n",
       "      <td>17.05</td>\n",
       "      <td>17.08</td>\n",
       "    </tr>\n",
       "    <tr>\n",
       "      <th>3</th>\n",
       "      <td>2015-03-05</td>\n",
       "      <td>16.00</td>\n",
       "      <td>15.97</td>\n",
       "      <td>16.04</td>\n",
       "      <td>16.48</td>\n",
       "      <td>16.70</td>\n",
       "      <td>17.03</td>\n",
       "      <td>17.06</td>\n",
       "    </tr>\n",
       "    <tr>\n",
       "      <th>4</th>\n",
       "      <td>2015-03-06</td>\n",
       "      <td>15.85</td>\n",
       "      <td>15.95</td>\n",
       "      <td>16.02</td>\n",
       "      <td>16.43</td>\n",
       "      <td>16.64</td>\n",
       "      <td>16.89</td>\n",
       "      <td>16.97</td>\n",
       "    </tr>\n",
       "  </tbody>\n",
       "</table>\n",
       "</div>"
      ],
      "text/plain": [
       "        Date  overnight_mosprime     1W     2W     1M     2M     3M     6M\n",
       "0 2015-03-02               15.95  15.99  16.06  16.56  16.76  17.07  17.07\n",
       "1 2015-03-03               15.96  15.98  16.06  16.55  16.76  17.06  17.09\n",
       "2 2015-03-04               15.94  15.98  16.05  16.50  16.73  17.05  17.08\n",
       "3 2015-03-05               16.00  15.97  16.04  16.48  16.70  17.03  17.06\n",
       "4 2015-03-06               15.85  15.95  16.02  16.43  16.64  16.89  16.97"
      ]
     },
     "execution_count": 2,
     "metadata": {},
     "output_type": "execute_result"
    }
   ],
   "source": [
    "repo = pd.read_csv(os.path.join(base_path, 'data/raw_data/mosprime_all.csv'), header=1, sep=';', decimal=',')\n",
    "repo.columns = ['Date', 'overnight_mosprime', '1W', '2W', '1M', '2M', '3M', '6M']\n",
    "#repo.drop(columns=['unt'], inplace=True)\n",
    "repo['Date'] = pd.to_datetime(repo['Date'], format='%d.%m.%Y')\n",
    "repo = repo[::-1].reset_index(drop=True)\n",
    "repo.dropna(inplace=True)\n",
    "repo.head()"
   ]
  },
  {
   "cell_type": "code",
   "execution_count": 3,
   "id": "0c171ee6",
   "metadata": {},
   "outputs": [],
   "source": [
    "repo.to_excel(os.path.join(base_path, 'data/raw_data/rates_OTC_market/mosprime_all.xlsx'), \n",
    "                                    index=False)"
   ]
  },
  {
   "cell_type": "code",
   "execution_count": null,
   "id": "25d54d72",
   "metadata": {},
   "outputs": [],
   "source": []
  }
 ],
 "metadata": {
  "kernelspec": {
   "display_name": "Python 3",
   "language": "python",
   "name": "python3"
  },
  "language_info": {
   "codemirror_mode": {
    "name": "ipython",
    "version": 3
   },
   "file_extension": ".py",
   "mimetype": "text/x-python",
   "name": "python",
   "nbconvert_exporter": "python",
   "pygments_lexer": "ipython3",
   "version": "3.8.8"
  }
 },
 "nbformat": 4,
 "nbformat_minor": 5
}
