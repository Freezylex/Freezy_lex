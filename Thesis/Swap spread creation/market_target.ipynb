{
 "cells": [
  {
   "cell_type": "code",
   "execution_count": null,
   "id": "4348a869",
   "metadata": {},
   "outputs": [],
   "source": [
    "# import pandas as pd\n",
    "import numpy as np\n",
    "import os\n",
    "base_path = '/Users/freezylex/Documents/course_work/'"
   ]
  },
  {
   "cell_type": "markdown",
   "id": "bbcde7ec",
   "metadata": {},
   "source": [
    "# Upload daily data from Bloomberg & RUREPO + CBR"
   ]
  },
  {
   "cell_type": "code",
   "execution_count": 2,
   "id": "443cbfcc",
   "metadata": {},
   "outputs": [
    {
     "data": {
      "text/html": [
       "<div>\n",
       "<style scoped>\n",
       "    .dataframe tbody tr th:only-of-type {\n",
       "        vertical-align: middle;\n",
       "    }\n",
       "\n",
       "    .dataframe tbody tr th {\n",
       "        vertical-align: top;\n",
       "    }\n",
       "\n",
       "    .dataframe thead th {\n",
       "        text-align: right;\n",
       "    }\n",
       "</style>\n",
       "<table border=\"1\" class=\"dataframe\">\n",
       "  <thead>\n",
       "    <tr style=\"text-align: right;\">\n",
       "      <th></th>\n",
       "      <th>overnight_mosprime</th>\n",
       "      <th>1W</th>\n",
       "      <th>2W</th>\n",
       "      <th>1M</th>\n",
       "      <th>2M</th>\n",
       "      <th>3M</th>\n",
       "      <th>6M</th>\n",
       "      <th>10_year</th>\n",
       "      <th>overnight</th>\n",
       "      <th>1_year</th>\n",
       "      <th>2_year</th>\n",
       "      <th>3_year</th>\n",
       "      <th>4_year</th>\n",
       "      <th>5_year</th>\n",
       "      <th>6_year</th>\n",
       "      <th>7_year</th>\n",
       "      <th>8_year</th>\n",
       "      <th>9_year</th>\n",
       "    </tr>\n",
       "    <tr>\n",
       "      <th>Date</th>\n",
       "      <th></th>\n",
       "      <th></th>\n",
       "      <th></th>\n",
       "      <th></th>\n",
       "      <th></th>\n",
       "      <th></th>\n",
       "      <th></th>\n",
       "      <th></th>\n",
       "      <th></th>\n",
       "      <th></th>\n",
       "      <th></th>\n",
       "      <th></th>\n",
       "      <th></th>\n",
       "      <th></th>\n",
       "      <th></th>\n",
       "      <th></th>\n",
       "      <th></th>\n",
       "      <th></th>\n",
       "    </tr>\n",
       "  </thead>\n",
       "  <tbody>\n",
       "    <tr>\n",
       "      <th>2015-03-02</th>\n",
       "      <td>15.95</td>\n",
       "      <td>15.99</td>\n",
       "      <td>16.06</td>\n",
       "      <td>16.56</td>\n",
       "      <td>16.76</td>\n",
       "      <td>17.07</td>\n",
       "      <td>17.07</td>\n",
       "      <td>13.350</td>\n",
       "      <td>16.0</td>\n",
       "      <td>16.99</td>\n",
       "      <td>15.400</td>\n",
       "      <td>14.65</td>\n",
       "      <td>14.20</td>\n",
       "      <td>13.91</td>\n",
       "      <td>13.7019</td>\n",
       "      <td>13.56</td>\n",
       "      <td>13.46</td>\n",
       "      <td>13.39</td>\n",
       "    </tr>\n",
       "    <tr>\n",
       "      <th>2015-03-03</th>\n",
       "      <td>15.96</td>\n",
       "      <td>15.98</td>\n",
       "      <td>16.06</td>\n",
       "      <td>16.55</td>\n",
       "      <td>16.76</td>\n",
       "      <td>17.06</td>\n",
       "      <td>17.09</td>\n",
       "      <td>13.345</td>\n",
       "      <td>16.0</td>\n",
       "      <td>17.04</td>\n",
       "      <td>15.380</td>\n",
       "      <td>14.65</td>\n",
       "      <td>14.18</td>\n",
       "      <td>13.90</td>\n",
       "      <td>13.7000</td>\n",
       "      <td>13.56</td>\n",
       "      <td>13.45</td>\n",
       "      <td>13.38</td>\n",
       "    </tr>\n",
       "    <tr>\n",
       "      <th>2015-03-04</th>\n",
       "      <td>15.94</td>\n",
       "      <td>15.98</td>\n",
       "      <td>16.05</td>\n",
       "      <td>16.50</td>\n",
       "      <td>16.73</td>\n",
       "      <td>17.05</td>\n",
       "      <td>17.08</td>\n",
       "      <td>13.245</td>\n",
       "      <td>16.0</td>\n",
       "      <td>NaN</td>\n",
       "      <td>15.295</td>\n",
       "      <td>14.56</td>\n",
       "      <td>14.10</td>\n",
       "      <td>13.79</td>\n",
       "      <td>13.5900</td>\n",
       "      <td>13.46</td>\n",
       "      <td>13.36</td>\n",
       "      <td>13.29</td>\n",
       "    </tr>\n",
       "  </tbody>\n",
       "</table>\n",
       "</div>"
      ],
      "text/plain": [
       "            overnight_mosprime     1W     2W     1M     2M     3M     6M  \\\n",
       "Date                                                                       \n",
       "2015-03-02               15.95  15.99  16.06  16.56  16.76  17.07  17.07   \n",
       "2015-03-03               15.96  15.98  16.06  16.55  16.76  17.06  17.09   \n",
       "2015-03-04               15.94  15.98  16.05  16.50  16.73  17.05  17.08   \n",
       "\n",
       "            10_year  overnight  1_year  2_year  3_year  4_year  5_year  \\\n",
       "Date                                                                     \n",
       "2015-03-02   13.350       16.0   16.99  15.400   14.65   14.20   13.91   \n",
       "2015-03-03   13.345       16.0   17.04  15.380   14.65   14.18   13.90   \n",
       "2015-03-04   13.245       16.0     NaN  15.295   14.56   14.10   13.79   \n",
       "\n",
       "             6_year  7_year  8_year  9_year  \n",
       "Date                                         \n",
       "2015-03-02  13.7019   13.56   13.46   13.39  \n",
       "2015-03-03  13.7000   13.56   13.45   13.38  \n",
       "2015-03-04  13.5900   13.46   13.36   13.29  "
      ]
     },
     "execution_count": 2,
     "metadata": {},
     "output_type": "execute_result"
    }
   ],
   "source": [
    "dir_rates = 'data/raw_data/rates_OTC_market'\n",
    "file_names = sorted(os.listdir(os.path.join(base_path, dir_rates)))\n",
    "\n",
    "### Read\n",
    "\n",
    "first = True\n",
    "for i in range(len(file_names)):\n",
    "    if file_names[i][-4:] != 'xlsx':\n",
    "        pass\n",
    "    else:\n",
    "        data = pd.read_excel(os.path.join(base_path, \n",
    "                                          dir_rates, \n",
    "                                          file_names[i])).reset_index(drop=True).set_index('Date')\n",
    "        if first:\n",
    "            rates = data\n",
    "            first = False\n",
    "        else:\n",
    "            rates = rates.merge(data, on='Date', how='outer', sort=True)\n",
    "rates.head(3)"
   ]
  },
  {
   "cell_type": "code",
   "execution_count": 3,
   "id": "33a9236a",
   "metadata": {},
   "outputs": [
    {
     "data": {
      "text/plain": [
       "(255, 18)"
      ]
     },
     "execution_count": 3,
     "metadata": {},
     "output_type": "execute_result"
    }
   ],
   "source": [
    "rates.shape #previous had 245 rows"
   ]
  },
  {
   "cell_type": "code",
   "execution_count": 4,
   "id": "30d3a3ec",
   "metadata": {},
   "outputs": [
    {
     "name": "stdout",
     "output_type": "stream",
     "text": [
      "<class 'pandas.core.frame.DataFrame'>\n",
      "DatetimeIndex: 255 entries, 2015-03-02 to 2016-02-19\n",
      "Data columns (total 18 columns):\n",
      " #   Column              Non-Null Count  Dtype  \n",
      "---  ------              --------------  -----  \n",
      " 0   overnight_mosprime  242 non-null    float64\n",
      " 1   1W                  242 non-null    float64\n",
      " 2   2W                  242 non-null    float64\n",
      " 3   1M                  242 non-null    float64\n",
      " 4   2M                  242 non-null    float64\n",
      " 5   3M                  242 non-null    float64\n",
      " 6   6M                  242 non-null    float64\n",
      " 7   10_year             236 non-null    float64\n",
      " 8   overnight           244 non-null    float64\n",
      " 9   1_year              150 non-null    float64\n",
      " 10  2_year              242 non-null    float64\n",
      " 11  3_year              241 non-null    float64\n",
      " 12  4_year              240 non-null    float64\n",
      " 13  5_year              254 non-null    float64\n",
      " 14  6_year              233 non-null    float64\n",
      " 15  7_year              242 non-null    float64\n",
      " 16  8_year              233 non-null    float64\n",
      " 17  9_year              235 non-null    float64\n",
      "dtypes: float64(18)\n",
      "memory usage: 37.9 KB\n"
     ]
    }
   ],
   "source": [
    "rates.info()"
   ]
  },
  {
   "cell_type": "code",
   "execution_count": 5,
   "id": "86104304",
   "metadata": {},
   "outputs": [
    {
     "data": {
      "text/plain": [
       "0.4117647058823529"
      ]
     },
     "execution_count": 5,
     "metadata": {},
     "output_type": "execute_result"
    }
   ],
   "source": [
    "105/255"
   ]
  },
  {
   "cell_type": "code",
   "execution_count": 6,
   "id": "2be92676",
   "metadata": {},
   "outputs": [
    {
     "data": {
      "text/html": [
       "<div>\n",
       "<style scoped>\n",
       "    .dataframe tbody tr th:only-of-type {\n",
       "        vertical-align: middle;\n",
       "    }\n",
       "\n",
       "    .dataframe tbody tr th {\n",
       "        vertical-align: top;\n",
       "    }\n",
       "\n",
       "    .dataframe thead th {\n",
       "        text-align: right;\n",
       "    }\n",
       "</style>\n",
       "<table border=\"1\" class=\"dataframe\">\n",
       "  <thead>\n",
       "    <tr style=\"text-align: right;\">\n",
       "      <th></th>\n",
       "      <th>5_year</th>\n",
       "      <th>overnight</th>\n",
       "      <th>7_year</th>\n",
       "      <th>2_year</th>\n",
       "      <th>6M</th>\n",
       "      <th>overnight_mosprime</th>\n",
       "      <th>2M</th>\n",
       "      <th>1M</th>\n",
       "      <th>2W</th>\n",
       "      <th>1W</th>\n",
       "      <th>3M</th>\n",
       "      <th>3_year</th>\n",
       "      <th>4_year</th>\n",
       "      <th>10_year</th>\n",
       "      <th>9_year</th>\n",
       "      <th>8_year</th>\n",
       "      <th>6_year</th>\n",
       "      <th>1_year</th>\n",
       "    </tr>\n",
       "  </thead>\n",
       "  <tbody>\n",
       "    <tr>\n",
       "      <th>number_of_missings</th>\n",
       "      <td>1</td>\n",
       "      <td>11</td>\n",
       "      <td>13</td>\n",
       "      <td>13</td>\n",
       "      <td>13</td>\n",
       "      <td>13</td>\n",
       "      <td>13</td>\n",
       "      <td>13</td>\n",
       "      <td>13</td>\n",
       "      <td>13</td>\n",
       "      <td>13</td>\n",
       "      <td>14</td>\n",
       "      <td>15</td>\n",
       "      <td>19</td>\n",
       "      <td>20</td>\n",
       "      <td>22</td>\n",
       "      <td>22</td>\n",
       "      <td>105</td>\n",
       "    </tr>\n",
       "  </tbody>\n",
       "</table>\n",
       "</div>"
      ],
      "text/plain": [
       "                    5_year  overnight  7_year  2_year  6M  overnight_mosprime  \\\n",
       "number_of_missings       1         11      13      13  13                  13   \n",
       "\n",
       "                    2M  1M  2W  1W  3M  3_year  4_year  10_year  9_year  \\\n",
       "number_of_missings  13  13  13  13  13      14      15       19      20   \n",
       "\n",
       "                    8_year  6_year  1_year  \n",
       "number_of_missings      22      22     105  "
      ]
     },
     "execution_count": 6,
     "metadata": {},
     "output_type": "execute_result"
    }
   ],
   "source": [
    "pd.DataFrame(rates.isna().sum().sort_values(), columns = ['number_of_missings']).T"
   ]
  },
  {
   "cell_type": "code",
   "execution_count": 7,
   "id": "8f85872c",
   "metadata": {},
   "outputs": [],
   "source": [
    "pd.DataFrame(rates.isna().sum().sort_values(), columns = ['number_of_missings']).T.to_excel(os.path.join(\n",
    "base_path, 'stats/missing_OTC.xlsx'))"
   ]
  },
  {
   "cell_type": "code",
   "execution_count": 8,
   "id": "f917934b",
   "metadata": {},
   "outputs": [
    {
     "data": {
      "text/html": [
       "<div>\n",
       "<style scoped>\n",
       "    .dataframe tbody tr th:only-of-type {\n",
       "        vertical-align: middle;\n",
       "    }\n",
       "\n",
       "    .dataframe tbody tr th {\n",
       "        vertical-align: top;\n",
       "    }\n",
       "\n",
       "    .dataframe thead th {\n",
       "        text-align: right;\n",
       "    }\n",
       "</style>\n",
       "<table border=\"1\" class=\"dataframe\">\n",
       "  <thead>\n",
       "    <tr style=\"text-align: right;\">\n",
       "      <th>Date</th>\n",
       "      <th>2015-05-11</th>\n",
       "      <th>2015-05-04</th>\n",
       "      <th>2015-03-09</th>\n",
       "      <th>2016-01-08</th>\n",
       "      <th>2016-01-01</th>\n",
       "      <th>2015-12-31</th>\n",
       "      <th>2015-08-31</th>\n",
       "      <th>2015-04-06</th>\n",
       "      <th>2015-07-23</th>\n",
       "      <th>2015-07-22</th>\n",
       "      <th>2015-05-25</th>\n",
       "      <th>2015-07-20</th>\n",
       "      <th>2015-07-24</th>\n",
       "      <th>2015-11-04</th>\n",
       "      <th>2015-07-27</th>\n",
       "      <th>2016-01-07</th>\n",
       "      <th>2016-01-04</th>\n",
       "      <th>2015-06-12</th>\n",
       "      <th>2016-01-06</th>\n",
       "      <th>2015-05-01</th>\n",
       "    </tr>\n",
       "  </thead>\n",
       "  <tbody>\n",
       "    <tr>\n",
       "      <th>number_of_missing_rates</th>\n",
       "      <td>17</td>\n",
       "      <td>17</td>\n",
       "      <td>17</td>\n",
       "      <td>13</td>\n",
       "      <td>10</td>\n",
       "      <td>10</td>\n",
       "      <td>9</td>\n",
       "      <td>9</td>\n",
       "      <td>9</td>\n",
       "      <td>9</td>\n",
       "      <td>9</td>\n",
       "      <td>9</td>\n",
       "      <td>9</td>\n",
       "      <td>9</td>\n",
       "      <td>9</td>\n",
       "      <td>9</td>\n",
       "      <td>8</td>\n",
       "      <td>8</td>\n",
       "      <td>8</td>\n",
       "      <td>8</td>\n",
       "    </tr>\n",
       "  </tbody>\n",
       "</table>\n",
       "</div>"
      ],
      "text/plain": [
       "Date                     2015-05-11  2015-05-04  2015-03-09  2016-01-08  \\\n",
       "number_of_missing_rates          17          17          17          13   \n",
       "\n",
       "Date                     2016-01-01  2015-12-31  2015-08-31  2015-04-06  \\\n",
       "number_of_missing_rates          10          10           9           9   \n",
       "\n",
       "Date                     2015-07-23  2015-07-22  2015-05-25  2015-07-20  \\\n",
       "number_of_missing_rates           9           9           9           9   \n",
       "\n",
       "Date                     2015-07-24  2015-11-04  2015-07-27  2016-01-07  \\\n",
       "number_of_missing_rates           9           9           9           9   \n",
       "\n",
       "Date                     2016-01-04  2015-06-12  2016-01-06  2015-05-01  \n",
       "number_of_missing_rates           8           8           8           8  "
      ]
     },
     "execution_count": 8,
     "metadata": {},
     "output_type": "execute_result"
    }
   ],
   "source": [
    "pd.DataFrame(rates.isna().sum(\n",
    "    axis=1).sort_values(ascending=False).head(20), \n",
    "             columns = ['number_of_missing_rates']).T"
   ]
  },
  {
   "cell_type": "code",
   "execution_count": 9,
   "id": "141ee921",
   "metadata": {},
   "outputs": [],
   "source": [
    "pd.DataFrame(rates.isna().sum(\n",
    "    axis=1).sort_values(ascending=False), \n",
    "             columns = ['number_of_missing_rates']).value_counts('number_of_missing_rates').to_excel(os.path.join(\n",
    "base_path, 'stats/missing_OTC_groupby_init.xlsx'))"
   ]
  },
  {
   "cell_type": "code",
   "execution_count": 10,
   "id": "1505aba9",
   "metadata": {},
   "outputs": [
    {
     "data": {
      "image/png": "[encoded data removed]",
      "text/plain": [
       "<Figure size 576x360 with 1 Axes>"
      ]
     },
     "metadata": {
      "needs_background": "light"
     },
     "output_type": "display_data"
    }
   ],
   "source": [
    "import seaborn as sns\n",
    "import matplotlib.pyplot as plt\n",
    "\n",
    "fig, ax = plt.subplots(figsize=(8, 5))\n",
    "sns.histplot(rates.isna().sum(axis=1).values)\n",
    "plt.title('Distribution of missing rates per day')\n",
    "plt.xlabel('Number of missings in 1 day')\n",
    "plt.show()"
   ]
  },
  {
   "cell_type": "markdown",
   "id": "6393ad3e",
   "metadata": {},
   "source": [
    "## Filling task\n",
    "\n",
    "- Days with number of available rates less than 6 will be excluded\n",
    "- We need to find a way how to fill 1^st year of rates\n",
    "\n",
    "Solution: take RoisFIX 6M, build a non-linear regression on available data and fit other dates"
   ]
  },
  {
   "cell_type": "code",
   "execution_count": 11,
   "id": "d3d8c8d0",
   "metadata": {},
   "outputs": [
    {
     "data": {
      "text/html": [
       "<div>\n",
       "<style scoped>\n",
       "    .dataframe tbody tr th:only-of-type {\n",
       "        vertical-align: middle;\n",
       "    }\n",
       "\n",
       "    .dataframe tbody tr th {\n",
       "        vertical-align: top;\n",
       "    }\n",
       "\n",
       "    .dataframe thead th {\n",
       "        text-align: right;\n",
       "    }\n",
       "</style>\n",
       "<table border=\"1\" class=\"dataframe\">\n",
       "  <thead>\n",
       "    <tr style=\"text-align: right;\">\n",
       "      <th></th>\n",
       "      <th>1W</th>\n",
       "      <th>2W</th>\n",
       "      <th>1M</th>\n",
       "      <th>2M</th>\n",
       "      <th>3M</th>\n",
       "      <th>6M</th>\n",
       "    </tr>\n",
       "    <tr>\n",
       "      <th>Date</th>\n",
       "      <th></th>\n",
       "      <th></th>\n",
       "      <th></th>\n",
       "      <th></th>\n",
       "      <th></th>\n",
       "      <th></th>\n",
       "    </tr>\n",
       "  </thead>\n",
       "  <tbody>\n",
       "    <tr>\n",
       "      <th>2015-03-02</th>\n",
       "      <td>15.52</td>\n",
       "      <td>15.63</td>\n",
       "      <td>15.20</td>\n",
       "      <td>14.88</td>\n",
       "      <td>14.70</td>\n",
       "      <td>14.48</td>\n",
       "    </tr>\n",
       "    <tr>\n",
       "      <th>2015-03-03</th>\n",
       "      <td>15.58</td>\n",
       "      <td>15.65</td>\n",
       "      <td>15.18</td>\n",
       "      <td>14.93</td>\n",
       "      <td>14.76</td>\n",
       "      <td>14.56</td>\n",
       "    </tr>\n",
       "    <tr>\n",
       "      <th>2015-03-04</th>\n",
       "      <td>15.53</td>\n",
       "      <td>15.59</td>\n",
       "      <td>15.10</td>\n",
       "      <td>14.86</td>\n",
       "      <td>14.76</td>\n",
       "      <td>14.56</td>\n",
       "    </tr>\n",
       "  </tbody>\n",
       "</table>\n",
       "</div>"
      ],
      "text/plain": [
       "               1W     2W     1M     2M     3M     6M\n",
       "Date                                                \n",
       "2015-03-02  15.52  15.63  15.20  14.88  14.70  14.48\n",
       "2015-03-03  15.58  15.65  15.18  14.93  14.76  14.56\n",
       "2015-03-04  15.53  15.59  15.10  14.86  14.76  14.56"
      ]
     },
     "execution_count": 11,
     "metadata": {},
     "output_type": "execute_result"
    }
   ],
   "source": [
    "roisfix = pd.read_excel(os.path.join(base_path, 'data/raw_data/roisfix.xlsx'), index_col='Date',\n",
    "                       parse_dates = True)\n",
    "roisfix.head(3)"
   ]
  },
  {
   "cell_type": "code",
   "execution_count": 12,
   "id": "9c483303",
   "metadata": {},
   "outputs": [
    {
     "data": {
      "text/plain": [
       "(243, 6)"
      ]
     },
     "execution_count": 12,
     "metadata": {},
     "output_type": "execute_result"
    }
   ],
   "source": [
    "roisfix.shape #Data available for 243 days. Less than CBR rates for 2 days"
   ]
  },
  {
   "cell_type": "code",
   "execution_count": 13,
   "id": "38680164",
   "metadata": {},
   "outputs": [
    {
     "data": {
      "image/png": "[encoded data removed]",
      "text/plain": [
       "<Figure size 648x648 with 1 Axes>"
      ]
     },
     "metadata": {
      "needs_background": "light"
     },
     "output_type": "display_data"
    }
   ],
   "source": [
    "fig, ax = plt.subplots(figsize=(9, 9))\n",
    "sns.scatterplot(x = roisfix['6M'], y = rates['1_year'])\n",
    "plt.xlabel('RoisFix 6M', fontsize=15)\n",
    "plt.ylabel('Bloomberg 1 year rates', fontsize=15)\n",
    "plt.title('Bloomberg swap rates for 1 year vs RoisFix 6 months', fontsize=15)\n",
    "plt.grid()\n",
    "plt.savefig(os.path.join(base_path, 'graphs/bloom_roisfix.png'), dpi=300)"
   ]
  },
  {
   "cell_type": "markdown",
   "id": "695e3819",
   "metadata": {},
   "source": [
    " - Idea: apply cubic regression"
   ]
  },
  {
   "cell_type": "code",
   "execution_count": 14,
   "id": "8abf5e96",
   "metadata": {},
   "outputs": [
    {
     "data": {
      "text/html": [
       "<div>\n",
       "<style scoped>\n",
       "    .dataframe tbody tr th:only-of-type {\n",
       "        vertical-align: middle;\n",
       "    }\n",
       "\n",
       "    .dataframe tbody tr th {\n",
       "        vertical-align: top;\n",
       "    }\n",
       "\n",
       "    .dataframe thead th {\n",
       "        text-align: right;\n",
       "    }\n",
       "</style>\n",
       "<table border=\"1\" class=\"dataframe\">\n",
       "  <thead>\n",
       "    <tr style=\"text-align: right;\">\n",
       "      <th></th>\n",
       "      <th>Date</th>\n",
       "      <th>6M</th>\n",
       "      <th>1_year</th>\n",
       "      <th>6M_2</th>\n",
       "      <th>6M_3</th>\n",
       "      <th>const</th>\n",
       "    </tr>\n",
       "  </thead>\n",
       "  <tbody>\n",
       "    <tr>\n",
       "      <th>0</th>\n",
       "      <td>2015-03-02</td>\n",
       "      <td>14.48</td>\n",
       "      <td>16.99</td>\n",
       "      <td>209.6704</td>\n",
       "      <td>3036.027392</td>\n",
       "      <td>1</td>\n",
       "    </tr>\n",
       "    <tr>\n",
       "      <th>1</th>\n",
       "      <td>2015-03-03</td>\n",
       "      <td>14.56</td>\n",
       "      <td>17.04</td>\n",
       "      <td>211.9936</td>\n",
       "      <td>3086.626816</td>\n",
       "      <td>1</td>\n",
       "    </tr>\n",
       "  </tbody>\n",
       "</table>\n",
       "</div>"
      ],
      "text/plain": [
       "        Date     6M  1_year      6M_2         6M_3  const\n",
       "0 2015-03-02  14.48   16.99  209.6704  3036.027392      1\n",
       "1 2015-03-03  14.56   17.04  211.9936  3086.626816      1"
      ]
     },
     "execution_count": 14,
     "metadata": {},
     "output_type": "execute_result"
    }
   ],
   "source": [
    "data_for_reg = pd.DataFrame(roisfix['6M'].reset_index()).merge( #mos\n",
    "               pd.DataFrame(rates['1_year'].reset_index()), \n",
    "               how='outer', on='Date')\n",
    "\n",
    "data_for_reg['6M_2'] = data_for_reg['6M'] ** 2\n",
    "data_for_reg['6M_3'] = data_for_reg['6M'] ** 3\n",
    "data_for_reg['const'] = 1\n",
    "\n",
    "data_for_reg.head(2)"
   ]
  },
  {
   "cell_type": "code",
   "execution_count": 15,
   "id": "3d7490c8",
   "metadata": {},
   "outputs": [],
   "source": [
    "to_fill = data_for_reg.loc[data_for_reg['1_year'].isna() == True] #sample to be filled later\n",
    "data_for_reg = data_for_reg.loc[data_for_reg.isna().sum(axis=1) == 0] #sample for regression"
   ]
  },
  {
   "cell_type": "code",
   "execution_count": 16,
   "id": "fede00a6",
   "metadata": {},
   "outputs": [
    {
     "data": {
      "text/plain": [
       "(146, 6)"
      ]
     },
     "execution_count": 16,
     "metadata": {},
     "output_type": "execute_result"
    }
   ],
   "source": [
    "data_for_reg.shape"
   ]
  },
  {
   "cell_type": "code",
   "execution_count": 17,
   "id": "4446ca47",
   "metadata": {},
   "outputs": [],
   "source": [
    "train = data_for_reg.sample(n = 125, random_state = 27) #85%\n",
    "test = data_for_reg.loc[~data_for_reg.index.isin(train.index)]"
   ]
  },
  {
   "cell_type": "code",
   "execution_count": 18,
   "id": "e0a96297",
   "metadata": {},
   "outputs": [
    {
     "data": {
      "text/html": [
       "<table class=\"simpletable\">\n",
       "<caption>OLS Regression Results</caption>\n",
       "<tr>\n",
       "  <th>Dep. Variable:</th>         <td>1_year</td>      <th>  R-squared:         </th> <td>   0.936</td>\n",
       "</tr>\n",
       "<tr>\n",
       "  <th>Model:</th>                   <td>OLS</td>       <th>  Adj. R-squared:    </th> <td>   0.935</td>\n",
       "</tr>\n",
       "<tr>\n",
       "  <th>Method:</th>             <td>Least Squares</td>  <th>  F-statistic:       </th> <td>   593.2</td>\n",
       "</tr>\n",
       "<tr>\n",
       "  <th>Date:</th>             <td>Sat, 16 Apr 2022</td> <th>  Prob (F-statistic):</th> <td>3.71e-72</td>\n",
       "</tr>\n",
       "<tr>\n",
       "  <th>Time:</th>                 <td>16:48:03</td>     <th>  Log-Likelihood:    </th> <td> -20.366</td>\n",
       "</tr>\n",
       "<tr>\n",
       "  <th>No. Observations:</th>      <td>   125</td>      <th>  AIC:               </th> <td>   48.73</td>\n",
       "</tr>\n",
       "<tr>\n",
       "  <th>Df Residuals:</th>          <td>   121</td>      <th>  BIC:               </th> <td>   60.04</td>\n",
       "</tr>\n",
       "<tr>\n",
       "  <th>Df Model:</th>              <td>     3</td>      <th>                     </th>     <td> </td>   \n",
       "</tr>\n",
       "<tr>\n",
       "  <th>Covariance Type:</th>      <td>nonrobust</td>    <th>                     </th>     <td> </td>   \n",
       "</tr>\n",
       "</table>\n",
       "<table class=\"simpletable\">\n",
       "<tr>\n",
       "    <td></td>       <th>coef</th>     <th>std err</th>      <th>t</th>      <th>P>|t|</th>  <th>[0.025</th>    <th>0.975]</th>  \n",
       "</tr>\n",
       "<tr>\n",
       "  <th>6M</th>    <td>  164.4795</td> <td>   14.452</td> <td>   11.381</td> <td> 0.000</td> <td>  135.868</td> <td>  193.091</td>\n",
       "</tr>\n",
       "<tr>\n",
       "  <th>6M_2</th>  <td>  -13.2146</td> <td>    1.168</td> <td>  -11.317</td> <td> 0.000</td> <td>  -15.526</td> <td>  -10.903</td>\n",
       "</tr>\n",
       "<tr>\n",
       "  <th>6M_3</th>  <td>    0.3544</td> <td>    0.031</td> <td>   11.317</td> <td> 0.000</td> <td>    0.292</td> <td>    0.416</td>\n",
       "</tr>\n",
       "<tr>\n",
       "  <th>const</th> <td> -669.9736</td> <td>   59.370</td> <td>  -11.285</td> <td> 0.000</td> <td> -787.513</td> <td> -552.434</td>\n",
       "</tr>\n",
       "</table>\n",
       "<table class=\"simpletable\">\n",
       "<tr>\n",
       "  <th>Omnibus:</th>       <td> 6.377</td> <th>  Durbin-Watson:     </th> <td>   2.414</td>\n",
       "</tr>\n",
       "<tr>\n",
       "  <th>Prob(Omnibus):</th> <td> 0.041</td> <th>  Jarque-Bera (JB):  </th> <td>   5.881</td>\n",
       "</tr>\n",
       "<tr>\n",
       "  <th>Skew:</th>          <td>-0.492</td> <th>  Prob(JB):          </th> <td>  0.0528</td>\n",
       "</tr>\n",
       "<tr>\n",
       "  <th>Kurtosis:</th>      <td> 3.402</td> <th>  Cond. No.          </th> <td>3.92e+06</td>\n",
       "</tr>\n",
       "</table><br/><br/>Notes:<br/>[1] Standard Errors assume that the covariance matrix of the errors is correctly specified.<br/>[2] The condition number is large, 3.92e+06. This might indicate that there are<br/>strong multicollinearity or other numerical problems."
      ],
      "text/plain": [
       "<class 'statsmodels.iolib.summary.Summary'>\n",
       "\"\"\"\n",
       "                            OLS Regression Results                            \n",
       "==============================================================================\n",
       "Dep. Variable:                 1_year   R-squared:                       0.936\n",
       "Model:                            OLS   Adj. R-squared:                  0.935\n",
       "Method:                 Least Squares   F-statistic:                     593.2\n",
       "Date:                Sat, 16 Apr 2022   Prob (F-statistic):           3.71e-72\n",
       "Time:                        16:48:03   Log-Likelihood:                -20.366\n",
       "No. Observations:                 125   AIC:                             48.73\n",
       "Df Residuals:                     121   BIC:                             60.04\n",
       "Df Model:                           3                                         \n",
       "Covariance Type:            nonrobust                                         \n",
       "==============================================================================\n",
       "                 coef    std err          t      P>|t|      [0.025      0.975]\n",
       "------------------------------------------------------------------------------\n",
       "6M           164.4795     14.452     11.381      0.000     135.868     193.091\n",
       "6M_2         -13.2146      1.168    -11.317      0.000     -15.526     -10.903\n",
       "6M_3           0.3544      0.031     11.317      0.000       0.292       0.416\n",
       "const       -669.9736     59.370    -11.285      0.000    -787.513    -552.434\n",
       "==============================================================================\n",
       "Omnibus:                        6.377   Durbin-Watson:                   2.414\n",
       "Prob(Omnibus):                  0.041   Jarque-Bera (JB):                5.881\n",
       "Skew:                          -0.492   Prob(JB):                       0.0528\n",
       "Kurtosis:                       3.402   Cond. No.                     3.92e+06\n",
       "==============================================================================\n",
       "\n",
       "Notes:\n",
       "[1] Standard Errors assume that the covariance matrix of the errors is correctly specified.\n",
       "[2] The condition number is large, 3.92e+06. This might indicate that there are\n",
       "strong multicollinearity or other numerical problems.\n",
       "\"\"\""
      ]
     },
     "execution_count": 18,
     "metadata": {},
     "output_type": "execute_result"
    }
   ],
   "source": [
    "from statsmodels.regression.linear_model import OLS\n",
    "\n",
    "model = OLS(train['1_year'], train[['6M', '6M_2', '6M_3','const']]).fit()\n",
    "predictions = model.predict()\n",
    "model.summary()"
   ]
  },
  {
   "cell_type": "code",
   "execution_count": 19,
   "id": "a5ca8fae",
   "metadata": {},
   "outputs": [],
   "source": [
    "from sklearn.metrics import r2_score, mean_squared_error"
   ]
  },
  {
   "cell_type": "code",
   "execution_count": 20,
   "id": "c1ae4785",
   "metadata": {},
   "outputs": [
    {
     "name": "stdout",
     "output_type": "stream",
     "text": [
      "R squared: 0.9161902075550566\n",
      "MSE: 0.14752329363048017\n",
      "RMSE: 0.3840876119200933\n"
     ]
    }
   ],
   "source": [
    "test_predictions = model.predict(test[['6M', '6M_2', '6M_3','const']])\n",
    "print(f'R squared: {r2_score(test[\"1_year\"], test_predictions)}')\n",
    "print(f'MSE: {mean_squared_error(test[\"1_year\"], test_predictions)}')\n",
    "print(f'RMSE: {mean_squared_error(test[\"1_year\"], test_predictions, squared=False)}')"
   ]
  },
  {
   "cell_type": "code",
   "execution_count": 21,
   "id": "df51f165",
   "metadata": {},
   "outputs": [
    {
     "data": {
      "image/png": "[encoded data removed]",
      "text/plain": [
       "<Figure size 504x504 with 1 Axes>"
      ]
     },
     "metadata": {
      "needs_background": "light"
     },
     "output_type": "display_data"
    }
   ],
   "source": [
    "fig, ax = plt.subplots(figsize=(7, 7))\n",
    "sns.scatterplot(y = train['1_year'], x = predictions)\n",
    "plt.ylabel('Bloomberg data', fontsize=15)\n",
    "plt.xlabel('Model predictions', fontsize=15)\n",
    "plt.title('Model predictions on train set vs True values', fontsize=15)\n",
    "plt.grid()\n",
    "plt.show()"
   ]
  },
  {
   "cell_type": "code",
   "execution_count": 22,
   "id": "844bdc48",
   "metadata": {},
   "outputs": [
    {
     "data": {
      "image/png": "[encoded data removed]",
      "text/plain": [
       "<Figure size 504x504 with 1 Axes>"
      ]
     },
     "metadata": {
      "needs_background": "light"
     },
     "output_type": "display_data"
    }
   ],
   "source": [
    "fig, ax = plt.subplots(figsize=(7, 7))\n",
    "sns.scatterplot(y = test['1_year'], x = test_predictions)\n",
    "plt.ylabel('Bloomberg data', fontsize=15)\n",
    "plt.xlabel('Model predictions', fontsize=15)\n",
    "plt.title('Model predictions on test set vs True values', fontsize=15)\n",
    "plt.grid()\n",
    "plt.show()"
   ]
  },
  {
   "cell_type": "code",
   "execution_count": 23,
   "id": "47cfbc14",
   "metadata": {},
   "outputs": [],
   "source": [
    "to_fill = to_fill[to_fill['6M'].notna()] #Delete rows where there is no information about Mosprime rate\n",
    "preds_to_fill = model.predict(to_fill[['6M', '6M_2', '6M_3','const']])\n",
    "to_fill['1_year'] = preds_to_fill"
   ]
  },
  {
   "cell_type": "code",
   "execution_count": 24,
   "id": "abba71e2",
   "metadata": {},
   "outputs": [
    {
     "data": {
      "text/html": [
       "<div>\n",
       "<style scoped>\n",
       "    .dataframe tbody tr th:only-of-type {\n",
       "        vertical-align: middle;\n",
       "    }\n",
       "\n",
       "    .dataframe tbody tr th {\n",
       "        vertical-align: top;\n",
       "    }\n",
       "\n",
       "    .dataframe thead th {\n",
       "        text-align: right;\n",
       "    }\n",
       "</style>\n",
       "<table border=\"1\" class=\"dataframe\">\n",
       "  <thead>\n",
       "    <tr style=\"text-align: right;\">\n",
       "      <th></th>\n",
       "      <th>1_year</th>\n",
       "      <th>Date</th>\n",
       "    </tr>\n",
       "  </thead>\n",
       "  <tbody>\n",
       "    <tr>\n",
       "      <th>2</th>\n",
       "      <td>17.306515</td>\n",
       "      <td>2015-03-04</td>\n",
       "    </tr>\n",
       "    <tr>\n",
       "      <th>6</th>\n",
       "      <td>15.590162</td>\n",
       "      <td>2015-03-11</td>\n",
       "    </tr>\n",
       "  </tbody>\n",
       "</table>\n",
       "</div>"
      ],
      "text/plain": [
       "      1_year       Date\n",
       "2  17.306515 2015-03-04\n",
       "6  15.590162 2015-03-11"
      ]
     },
     "execution_count": 24,
     "metadata": {},
     "output_type": "execute_result"
    }
   ],
   "source": [
    "new_data_1_year = to_fill[['1_year', 'Date']]\n",
    "new_data_1_year.head(2)"
   ]
  },
  {
   "cell_type": "code",
   "execution_count": 25,
   "id": "055c4302",
   "metadata": {},
   "outputs": [],
   "source": [
    "rates.loc[new_data_1_year['Date'], '1_year'] = new_data_1_year['1_year'].values #Fill in available data"
   ]
  },
  {
   "cell_type": "markdown",
   "id": "47bd1681",
   "metadata": {},
   "source": [
    "### Check for missing rates per day"
   ]
  },
  {
   "cell_type": "code",
   "execution_count": 26,
   "id": "451ec7f0",
   "metadata": {},
   "outputs": [
    {
     "data": {
      "text/html": [
       "<div>\n",
       "<style scoped>\n",
       "    .dataframe tbody tr th:only-of-type {\n",
       "        vertical-align: middle;\n",
       "    }\n",
       "\n",
       "    .dataframe tbody tr th {\n",
       "        vertical-align: top;\n",
       "    }\n",
       "\n",
       "    .dataframe thead th {\n",
       "        text-align: right;\n",
       "    }\n",
       "</style>\n",
       "<table border=\"1\" class=\"dataframe\">\n",
       "  <thead>\n",
       "    <tr style=\"text-align: right;\">\n",
       "      <th></th>\n",
       "      <th>overnight_mosprime</th>\n",
       "      <th>1W</th>\n",
       "      <th>2W</th>\n",
       "      <th>1M</th>\n",
       "      <th>2M</th>\n",
       "      <th>3M</th>\n",
       "      <th>6M</th>\n",
       "      <th>10_year</th>\n",
       "      <th>overnight</th>\n",
       "      <th>1_year</th>\n",
       "      <th>2_year</th>\n",
       "      <th>3_year</th>\n",
       "      <th>4_year</th>\n",
       "      <th>5_year</th>\n",
       "      <th>6_year</th>\n",
       "      <th>7_year</th>\n",
       "      <th>8_year</th>\n",
       "      <th>9_year</th>\n",
       "    </tr>\n",
       "    <tr>\n",
       "      <th>Date</th>\n",
       "      <th></th>\n",
       "      <th></th>\n",
       "      <th></th>\n",
       "      <th></th>\n",
       "      <th></th>\n",
       "      <th></th>\n",
       "      <th></th>\n",
       "      <th></th>\n",
       "      <th></th>\n",
       "      <th></th>\n",
       "      <th></th>\n",
       "      <th></th>\n",
       "      <th></th>\n",
       "      <th></th>\n",
       "      <th></th>\n",
       "      <th></th>\n",
       "      <th></th>\n",
       "      <th></th>\n",
       "    </tr>\n",
       "  </thead>\n",
       "  <tbody>\n",
       "    <tr>\n",
       "      <th>2015-03-02</th>\n",
       "      <td>15.95</td>\n",
       "      <td>15.99</td>\n",
       "      <td>16.06</td>\n",
       "      <td>16.56</td>\n",
       "      <td>16.76</td>\n",
       "      <td>17.07</td>\n",
       "      <td>17.07</td>\n",
       "      <td>13.350</td>\n",
       "      <td>16.0</td>\n",
       "      <td>16.990000</td>\n",
       "      <td>15.400</td>\n",
       "      <td>14.65</td>\n",
       "      <td>14.20</td>\n",
       "      <td>13.91</td>\n",
       "      <td>13.7019</td>\n",
       "      <td>13.56</td>\n",
       "      <td>13.46</td>\n",
       "      <td>13.39</td>\n",
       "    </tr>\n",
       "    <tr>\n",
       "      <th>2015-03-03</th>\n",
       "      <td>15.96</td>\n",
       "      <td>15.98</td>\n",
       "      <td>16.06</td>\n",
       "      <td>16.55</td>\n",
       "      <td>16.76</td>\n",
       "      <td>17.06</td>\n",
       "      <td>17.09</td>\n",
       "      <td>13.345</td>\n",
       "      <td>16.0</td>\n",
       "      <td>17.040000</td>\n",
       "      <td>15.380</td>\n",
       "      <td>14.65</td>\n",
       "      <td>14.18</td>\n",
       "      <td>13.90</td>\n",
       "      <td>13.7000</td>\n",
       "      <td>13.56</td>\n",
       "      <td>13.45</td>\n",
       "      <td>13.38</td>\n",
       "    </tr>\n",
       "    <tr>\n",
       "      <th>2015-03-04</th>\n",
       "      <td>15.94</td>\n",
       "      <td>15.98</td>\n",
       "      <td>16.05</td>\n",
       "      <td>16.50</td>\n",
       "      <td>16.73</td>\n",
       "      <td>17.05</td>\n",
       "      <td>17.08</td>\n",
       "      <td>13.245</td>\n",
       "      <td>16.0</td>\n",
       "      <td>17.306515</td>\n",
       "      <td>15.295</td>\n",
       "      <td>14.56</td>\n",
       "      <td>14.10</td>\n",
       "      <td>13.79</td>\n",
       "      <td>13.5900</td>\n",
       "      <td>13.46</td>\n",
       "      <td>13.36</td>\n",
       "      <td>13.29</td>\n",
       "    </tr>\n",
       "    <tr>\n",
       "      <th>2015-03-05</th>\n",
       "      <td>16.00</td>\n",
       "      <td>15.97</td>\n",
       "      <td>16.04</td>\n",
       "      <td>16.48</td>\n",
       "      <td>16.70</td>\n",
       "      <td>17.03</td>\n",
       "      <td>17.06</td>\n",
       "      <td>13.035</td>\n",
       "      <td>16.0</td>\n",
       "      <td>16.400000</td>\n",
       "      <td>14.945</td>\n",
       "      <td>14.25</td>\n",
       "      <td>13.88</td>\n",
       "      <td>13.55</td>\n",
       "      <td>13.3500</td>\n",
       "      <td>13.20</td>\n",
       "      <td>13.03</td>\n",
       "      <td>12.97</td>\n",
       "    </tr>\n",
       "    <tr>\n",
       "      <th>2015-03-06</th>\n",
       "      <td>15.85</td>\n",
       "      <td>15.95</td>\n",
       "      <td>16.02</td>\n",
       "      <td>16.43</td>\n",
       "      <td>16.64</td>\n",
       "      <td>16.89</td>\n",
       "      <td>16.97</td>\n",
       "      <td>12.580</td>\n",
       "      <td>16.0</td>\n",
       "      <td>16.050000</td>\n",
       "      <td>14.410</td>\n",
       "      <td>13.75</td>\n",
       "      <td>13.34</td>\n",
       "      <td>13.09</td>\n",
       "      <td>12.9200</td>\n",
       "      <td>12.77</td>\n",
       "      <td>12.68</td>\n",
       "      <td>12.62</td>\n",
       "    </tr>\n",
       "  </tbody>\n",
       "</table>\n",
       "</div>"
      ],
      "text/plain": [
       "            overnight_mosprime     1W     2W     1M     2M     3M     6M  \\\n",
       "Date                                                                       \n",
       "2015-03-02               15.95  15.99  16.06  16.56  16.76  17.07  17.07   \n",
       "2015-03-03               15.96  15.98  16.06  16.55  16.76  17.06  17.09   \n",
       "2015-03-04               15.94  15.98  16.05  16.50  16.73  17.05  17.08   \n",
       "2015-03-05               16.00  15.97  16.04  16.48  16.70  17.03  17.06   \n",
       "2015-03-06               15.85  15.95  16.02  16.43  16.64  16.89  16.97   \n",
       "\n",
       "            10_year  overnight     1_year  2_year  3_year  4_year  5_year  \\\n",
       "Date                                                                        \n",
       "2015-03-02   13.350       16.0  16.990000  15.400   14.65   14.20   13.91   \n",
       "2015-03-03   13.345       16.0  17.040000  15.380   14.65   14.18   13.90   \n",
       "2015-03-04   13.245       16.0  17.306515  15.295   14.56   14.10   13.79   \n",
       "2015-03-05   13.035       16.0  16.400000  14.945   14.25   13.88   13.55   \n",
       "2015-03-06   12.580       16.0  16.050000  14.410   13.75   13.34   13.09   \n",
       "\n",
       "             6_year  7_year  8_year  9_year  \n",
       "Date                                         \n",
       "2015-03-02  13.7019   13.56   13.46   13.39  \n",
       "2015-03-03  13.7000   13.56   13.45   13.38  \n",
       "2015-03-04  13.5900   13.46   13.36   13.29  \n",
       "2015-03-05  13.3500   13.20   13.03   12.97  \n",
       "2015-03-06  12.9200   12.77   12.68   12.62  "
      ]
     },
     "execution_count": 26,
     "metadata": {},
     "output_type": "execute_result"
    }
   ],
   "source": [
    "mask = (rates.isna().sum(axis=1) >= 9) #Number of maximum allowed NaN values\n",
    "rates = rates[~mask]\n",
    "rates = rates[~rates.index.isin(['2015-04-06', '2015-07-27', '2015-07-23', '2015-08-31', \n",
    "                                 '2015-05-01', '2015-07-22', '2015-07-24', '2015-07-20'])]\n",
    "rates.head()"
   ]
  },
  {
   "cell_type": "code",
   "execution_count": 59,
   "id": "9b4e1316",
   "metadata": {},
   "outputs": [
    {
     "data": {
      "text/plain": [
       "(239, 17)"
      ]
     },
     "execution_count": 59,
     "metadata": {},
     "output_type": "execute_result"
    }
   ],
   "source": [
    "rates.shape"
   ]
  },
  {
   "cell_type": "code",
   "execution_count": 27,
   "id": "94cf4789",
   "metadata": {},
   "outputs": [],
   "source": [
    "rates.loc['2016-01-04', 'overnight_mosprime'] = 12\n",
    "rates.loc['2016-01-06', 'overnight_mosprime'] = 12"
   ]
  },
  {
   "cell_type": "code",
   "execution_count": 28,
   "id": "120996f9",
   "metadata": {},
   "outputs": [
    {
     "data": {
      "text/plain": [
       "Date\n",
       "2016-01-05    8\n",
       "2015-06-12    8\n",
       "2015-05-25    8\n",
       "2016-01-06    7\n",
       "2016-01-04    7\n",
       "2015-12-28    6\n",
       "2015-07-29    5\n",
       "2016-02-08    3\n",
       "2015-08-10    3\n",
       "2015-11-23    3\n",
       "dtype: int64"
      ]
     },
     "execution_count": 28,
     "metadata": {},
     "output_type": "execute_result"
    }
   ],
   "source": [
    "rates.isna().sum(axis=1).sort_values()[::-1].head(10)"
   ]
  },
  {
   "cell_type": "code",
   "execution_count": 63,
   "id": "0b920818",
   "metadata": {},
   "outputs": [
    {
     "data": {
      "text/plain": [
       "0    153\n",
       "1     11\n",
       "2      6\n",
       "7      4\n",
       "3      3\n",
       "5      1\n",
       "6      1\n",
       "dtype: int64"
      ]
     },
     "execution_count": 63,
     "metadata": {},
     "output_type": "execute_result"
    }
   ],
   "source": [
    "rates.loc['2015-06-01':].isna().sum(axis=1).value_counts()"
   ]
  },
  {
   "cell_type": "code",
   "execution_count": 65,
   "id": "e06be938",
   "metadata": {},
   "outputs": [
    {
     "data": {
      "text/plain": [
       "0.9497206703910615"
      ]
     },
     "execution_count": 65,
     "metadata": {},
     "output_type": "execute_result"
    }
   ],
   "source": [
    "(153 + 11 + 6) / 179"
   ]
  },
  {
   "cell_type": "code",
   "execution_count": 64,
   "id": "32ec1021",
   "metadata": {},
   "outputs": [
    {
     "data": {
      "text/plain": [
       "(179, 17)"
      ]
     },
     "execution_count": 64,
     "metadata": {},
     "output_type": "execute_result"
    }
   ],
   "source": [
    "rates.loc['2015-06-01':].shape"
   ]
  },
  {
   "cell_type": "code",
   "execution_count": 29,
   "id": "4993b611",
   "metadata": {},
   "outputs": [
    {
     "data": {
      "text/plain": [
       "(239, 18)"
      ]
     },
     "execution_count": 29,
     "metadata": {},
     "output_type": "execute_result"
    }
   ],
   "source": [
    "rates.shape # Contains 4 less days than CBR dataframe"
   ]
  },
  {
   "cell_type": "code",
   "execution_count": 30,
   "id": "88e6d918",
   "metadata": {},
   "outputs": [],
   "source": [
    "rates.to_excel(os.path.join(base_path, 'data/raw_data/OTC_rates.xlsx'))"
   ]
  },
  {
   "cell_type": "code",
   "execution_count": 31,
   "id": "f9692d54",
   "metadata": {},
   "outputs": [],
   "source": [
    "#rates = pd.read_excel(os.path.join(base_path, 'data/raw_data/OTC_rates.xlsx'), index_col='Date', \n",
    "#                     parse_dates=True)\n",
    "#rates.head(1)"
   ]
  },
  {
   "cell_type": "markdown",
   "id": "f6c1e8de",
   "metadata": {},
   "source": [
    "# Svensson model"
   ]
  },
  {
   "cell_type": "markdown",
   "id": "d4f14afc",
   "metadata": {},
   "source": [
    "- current section aims at building Nelson Siegel Svensson model, based on the following formula:\n",
    "\n",
    "NOT THIS FORMULA\n",
    "\n",
    "$r(T, \\beta) = \\beta_0 + \\beta_1 *(\\frac{1 - exp(\\frac{-T}{\\tau_1})}{(\\frac{T}{\\tau_1})}) + \\beta_2 * (\\frac{1 - exp(\\frac{-T}{\\tau_1})}{(\\frac{T}{\\tau_1})} - exp(-\\frac{T}{\\tau_1})) + \\beta_3 * (\\frac{1 - exp(\\frac{-T}{\\tau_2})}{(\\frac{T}{\\tau_2})} - exp(-\\frac{T}{\\tau_2}))$\n",
    "\n",
    "$r(T, \\beta)$ - zero-coupon interest rate over the time to maturity T as a function of the six parameters to be estimated : $(\\beta_0, \\beta_1, \\beta_2, \\beta_3, \\tau_1, \\tau_2)$"
   ]
  },
  {
   "cell_type": "code",
   "execution_count": 32,
   "id": "e890b95c",
   "metadata": {},
   "outputs": [],
   "source": [
    "from nelson_siegel_svensson.calibrate import calibrate_nss_ols"
   ]
  },
  {
   "cell_type": "code",
   "execution_count": 33,
   "id": "c6b73449",
   "metadata": {},
   "outputs": [
    {
     "data": {
      "text/plain": [
       "Index(['overnight_mosprime', '1W', '2W', '1M', '2M', '3M', '6M', '10_year',\n",
       "       'overnight', '1_year', '2_year', '3_year', '4_year', '5_year', '6_year',\n",
       "       '7_year', '8_year', '9_year'],\n",
       "      dtype='object')"
      ]
     },
     "execution_count": 33,
     "metadata": {},
     "output_type": "execute_result"
    }
   ],
   "source": [
    "rates.columns"
   ]
  },
  {
   "cell_type": "code",
   "execution_count": 34,
   "id": "d206b41f",
   "metadata": {},
   "outputs": [],
   "source": [
    "### RUREPO CHANGE\n",
    "rates.drop(columns=['overnight'], inplace=True)\n",
    "#rates.drop(columns=['overnight_rurepo'], inplace=True)\n",
    "rates.columns = [1/365, 7/365, 14/365, 1/12, 2/12, 3/12, 6/12, 10, 1, 2, 3, 4, 5, 6, 7, 8, 9]\n",
    "###"
   ]
  },
  {
   "cell_type": "code",
   "execution_count": 35,
   "id": "04c929f7",
   "metadata": {},
   "outputs": [
    {
     "data": {
      "text/html": [
       "<div>\n",
       "<style scoped>\n",
       "    .dataframe tbody tr th:only-of-type {\n",
       "        vertical-align: middle;\n",
       "    }\n",
       "\n",
       "    .dataframe tbody tr th {\n",
       "        vertical-align: top;\n",
       "    }\n",
       "\n",
       "    .dataframe thead th {\n",
       "        text-align: right;\n",
       "    }\n",
       "</style>\n",
       "<table border=\"1\" class=\"dataframe\">\n",
       "  <thead>\n",
       "    <tr style=\"text-align: right;\">\n",
       "      <th></th>\n",
       "      <th>0.002740</th>\n",
       "      <th>0.019178</th>\n",
       "      <th>0.038356</th>\n",
       "      <th>0.083333</th>\n",
       "      <th>0.166667</th>\n",
       "      <th>0.250000</th>\n",
       "      <th>0.500000</th>\n",
       "      <th>1.000000</th>\n",
       "      <th>2.000000</th>\n",
       "      <th>3.000000</th>\n",
       "      <th>4.000000</th>\n",
       "      <th>5.000000</th>\n",
       "      <th>6.000000</th>\n",
       "      <th>7.000000</th>\n",
       "      <th>8.000000</th>\n",
       "      <th>9.000000</th>\n",
       "      <th>10.000000</th>\n",
       "    </tr>\n",
       "    <tr>\n",
       "      <th>Date</th>\n",
       "      <th></th>\n",
       "      <th></th>\n",
       "      <th></th>\n",
       "      <th></th>\n",
       "      <th></th>\n",
       "      <th></th>\n",
       "      <th></th>\n",
       "      <th></th>\n",
       "      <th></th>\n",
       "      <th></th>\n",
       "      <th></th>\n",
       "      <th></th>\n",
       "      <th></th>\n",
       "      <th></th>\n",
       "      <th></th>\n",
       "      <th></th>\n",
       "      <th></th>\n",
       "    </tr>\n",
       "  </thead>\n",
       "  <tbody>\n",
       "    <tr>\n",
       "      <th>2015-03-02</th>\n",
       "      <td>15.95</td>\n",
       "      <td>15.99</td>\n",
       "      <td>16.06</td>\n",
       "      <td>16.56</td>\n",
       "      <td>16.76</td>\n",
       "      <td>17.07</td>\n",
       "      <td>17.07</td>\n",
       "      <td>16.99</td>\n",
       "      <td>15.4</td>\n",
       "      <td>14.65</td>\n",
       "      <td>14.2</td>\n",
       "      <td>13.91</td>\n",
       "      <td>13.7019</td>\n",
       "      <td>13.56</td>\n",
       "      <td>13.46</td>\n",
       "      <td>13.39</td>\n",
       "      <td>13.35</td>\n",
       "    </tr>\n",
       "  </tbody>\n",
       "</table>\n",
       "</div>"
      ],
      "text/plain": [
       "            0.002740   0.019178   0.038356   0.083333   0.166667   0.250000   \\\n",
       "Date                                                                           \n",
       "2015-03-02      15.95      15.99      16.06      16.56      16.76      17.07   \n",
       "\n",
       "            0.500000   1.000000   2.000000   3.000000   4.000000   5.000000   \\\n",
       "Date                                                                           \n",
       "2015-03-02      17.07      16.99       15.4      14.65       14.2      13.91   \n",
       "\n",
       "            6.000000   7.000000   8.000000   9.000000   10.000000  \n",
       "Date                                                               \n",
       "2015-03-02    13.7019      13.56      13.46      13.39      13.35  "
      ]
     },
     "execution_count": 35,
     "metadata": {},
     "output_type": "execute_result"
    }
   ],
   "source": [
    "### BASIC APPROACH\n",
    "#rates.columns = [10, 1/365, 1,2,3,4,5,6,7,8,9]\n",
    "rates = rates.reindex(sorted(rates.columns), axis=1)\n",
    "###\n",
    "rates.head(1)"
   ]
  },
  {
   "cell_type": "code",
   "execution_count": 39,
   "id": "a6550f3b",
   "metadata": {},
   "outputs": [
    {
     "data": {
      "text/plain": [
       "True"
      ]
     },
     "execution_count": 39,
     "metadata": {},
     "output_type": "execute_result"
    }
   ],
   "source": [
    "date_info = rates.loc['2016-01-18'].dropna()\n",
    "curve, status = calibrate_nss_ols(date_info.index.values, \n",
    "                                 date_info.values, tau0=(3, 7))\n",
    "status.success"
   ]
  },
  {
   "cell_type": "code",
   "execution_count": 40,
   "id": "2c83235e",
   "metadata": {},
   "outputs": [
    {
     "data": {
      "text/plain": [
       "Timestamp('2016-01-18 00:00:00')"
      ]
     },
     "execution_count": 40,
     "metadata": {},
     "output_type": "execute_result"
    }
   ],
   "source": [
    "date_info.name"
   ]
  },
  {
   "cell_type": "code",
   "execution_count": 41,
   "id": "922e438f",
   "metadata": {},
   "outputs": [
    {
     "data": {
      "image/png": "[encoded data removed]",
      "text/plain": [
       "<Figure size 720x432 with 1 Axes>"
      ]
     },
     "metadata": {
      "needs_background": "light"
     },
     "output_type": "display_data"
    }
   ],
   "source": [
    "x = np.arange(0, 13, 0.01)\n",
    "y_= curve(x)\n",
    "fig, ax = plt.subplots(figsize=(10, 6))\n",
    "plt.plot(x, y_, color = 'b')\n",
    "plt.grid()\n",
    "plt.plot(date_info.index.values, date_info.values, color='r')\n",
    "plt.show()"
   ]
  },
  {
   "cell_type": "code",
   "execution_count": 42,
   "id": "dd515a67",
   "metadata": {},
   "outputs": [],
   "source": [
    "special_dates = {'2015-05-22': (7, 5),\n",
    " '2015-05-25': (2, 3),\n",
    " '2015-07-08': (2, 3),\n",
    " '2015-07-29': (2, 5),\n",
    " '2015-08-12': (9, 1),\n",
    " '2015-08-13': (9, 1),\n",
    " '2015-08-17': (4, 9),\n",
    " '2015-08-27': (1, 9),\n",
    " '2015-09-14': (6, 2),\n",
    " '2015-09-15': (1, 9),\n",
    " '2015-09-17': (0.5, 1),\n",
    " '2015-09-18': (2, 5),\n",
    " '2015-09-21': (2,  5),\n",
    " '2015-09-22': (4, 7),\n",
    " '2015-09-23': (1, 8),\n",
    " '2015-09-24': (2, 7),\n",
    " '2015-09-25': (1, 8),\n",
    " '2015-09-28': (1, 8),\n",
    " '2015-09-29': (19, 8),\n",
    " '2015-09-30': (1, 7),\n",
    " '2015-10-01': (1, 7),\n",
    " '2015-10-02': (1, 7),\n",
    " '2015-10-05': (1, 7),\n",
    " '2015-10-06': (4, 2),\n",
    " '2015-10-07': (4 ,2),\n",
    " '2015-12-17': (3, 6),\n",
    " '2015-12-23': (3, 7),\n",
    " '2015-12-24': (3, 7),\n",
    " '2015-12-25': (3, 7),\n",
    " '2015-12-28': (3, 7),\n",
    " '2015-12-29': (3, 7),\n",
    " '2015-12-30': (3, 7),\n",
    " '2016-01-04': (3, 7),\n",
    " '2016-01-05': (3, 7),\n",
    " '2016-01-06': (3, 7),\n",
    " '2016-01-11': (3, 7),\n",
    " '2016-01-12': (3, 7),\n",
    " '2016-01-13': (3, 7),\n",
    " '2016-01-14': (3, 7),\n",
    " '2016-01-15': (3, 7),\n",
    " '2016-01-18': (3, 7),\n",
    " '2016-02-10': (3, 0.5),\n",
    " '2016-02-11': (4, 0.5),\n",
    " '2016-02-18': (2, 5),\n",
    " '2016-02-19': (2, 5)\n",
    " }"
   ]
  },
  {
   "cell_type": "markdown",
   "id": "b5a1027c",
   "metadata": {},
   "source": [
    "### Calibration and fitting"
   ]
  },
  {
   "cell_type": "code",
   "execution_count": 43,
   "id": "46297b94",
   "metadata": {},
   "outputs": [],
   "source": [
    "def make_curve(current_date, par = None):\n",
    "    date_info = current_date.dropna()\n",
    "    if par:\n",
    "        curve, status = calibrate_nss_ols(date_info.index.values, \n",
    "                                 date_info.values,  tau0=par)\n",
    "    else:\n",
    "        try:\n",
    "            curve, status = calibrate_nss_ols(date_info.index.values, \n",
    "                                     date_info.values,  tau0=(1, 0.5))\n",
    "        except:\n",
    "            curve, status = calibrate_nss_ols(date_info.index.values, \n",
    "                                     date_info.values,  tau0=(2, 0.5))\n",
    "    if not status.success:\n",
    "        counter = 1\n",
    "    else:\n",
    "        counter = 0\n",
    "    return curve, counter"
   ]
  },
  {
   "cell_type": "code",
   "execution_count": 44,
   "id": "e0b16b1b",
   "metadata": {},
   "outputs": [],
   "source": [
    "def return_time_until_red(curr_date, redemption_date): \n",
    "    date_red = pd.to_datetime(redemption_date, format = '%d.%m.%Y').date() #Such format is due to initial date format\n",
    "    #in bonds file\n",
    "    return (date_red - curr_date.date()).days / 365"
   ]
  },
  {
   "cell_type": "code",
   "execution_count": 45,
   "id": "55704bc5",
   "metadata": {},
   "outputs": [],
   "source": [
    "import json\n",
    "file = open(os.path.join(base_path, 'data/raw_data/bonds_info.json'), 'r')\n",
    "data_bonds = json.load(file)"
   ]
  },
  {
   "cell_type": "code",
   "execution_count": 46,
   "id": "4d0e2101",
   "metadata": {},
   "outputs": [],
   "source": [
    "from datetime import datetime\n",
    "import time"
   ]
  },
  {
   "cell_type": "code",
   "execution_count": 47,
   "id": "9bbe01eb",
   "metadata": {},
   "outputs": [],
   "source": [
    "from tqdm import tqdm\n",
    "def create_market_target(bond_file, rates_market):\n",
    "    columns_for_df = list(bond_file.keys())\n",
    "    index_for_df = rates_market.index\n",
    "    target_df = pd.DataFrame(columns = columns_for_df,\n",
    "                             index = index_for_df)\n",
    "    not_fitted_correctly = 0\n",
    "    counter_special = 0\n",
    "    sum_of_squared_erros = []\n",
    "    dates_sse = []\n",
    "    for date in tqdm(index_for_df):\n",
    "        rates_to_fit = rates_market.loc[date]\n",
    "        if rates_to_fit.name.strftime('%Y-%m-%d') in special_dates.keys():\n",
    "            counter_special +=1\n",
    "            params_ = special_dates[rates_to_fit.name.strftime('%Y-%m-%d')]\n",
    "            curve_fitted, counter = make_curve(rates_to_fit, params_)\n",
    "        else:\n",
    "            curve_fitted, counter = make_curve(rates_to_fit)\n",
    "            not_fitted_correctly += counter\n",
    "        yields_bonds = []\n",
    "        ### Get SSE ####\n",
    "        errors = curve_fitted(rates_to_fit.dropna().index.values) - rates_to_fit.dropna().values\n",
    "        sse = np.sum(errors ** 2)\n",
    "        sum_of_squared_erros.append(sse)\n",
    "        dates_sse.append(rates_to_fit.name)\n",
    "        ### ------  #### \n",
    "        for bond in columns_for_df:\n",
    "            til_red = return_time_until_red(date, bond_file[bond]['redemption_date'])\n",
    "            yields_bonds.append(curve_fitted(til_red))\n",
    "        target_df.loc[date] = yields_bonds\n",
    "    print(f'{not_fitted_correctly} fitted not completely')\n",
    "    return target_df, sum_of_squared_erros, dates_sse"
   ]
  },
  {
   "cell_type": "code",
   "execution_count": 48,
   "id": "f7adfe20",
   "metadata": {},
   "outputs": [
    {
     "name": "stderr",
     "output_type": "stream",
     "text": [
      " 36%|███▌      | 85/239 [00:02<00:04, 35.50it/s]/opt/anaconda3/lib/python3.8/site-packages/nelson_siegel_svensson/nss.py:43: RuntimeWarning: overflow encountered in exp\n",
      "  exp_tt2 = exp(-T/tau2)\n",
      "/opt/anaconda3/lib/python3.8/site-packages/nelson_siegel_svensson/nss.py:46: RuntimeWarning: invalid value encountered in subtract\n",
      "  factor3 = (1 - exp_tt2) / (T / tau2) - exp_tt2\n",
      " 41%|████      | 97/239 [00:02<00:04, 34.89it/s]/opt/anaconda3/lib/python3.8/site-packages/nelson_siegel_svensson/nss.py:43: RuntimeWarning: overflow encountered in exp\n",
      "  exp_tt2 = exp(-T/tau2)\n",
      "/opt/anaconda3/lib/python3.8/site-packages/nelson_siegel_svensson/nss.py:46: RuntimeWarning: invalid value encountered in subtract\n",
      "  factor3 = (1 - exp_tt2) / (T / tau2) - exp_tt2\n",
      " 47%|████▋     | 112/239 [00:03<00:03, 40.66it/s]/opt/anaconda3/lib/python3.8/site-packages/nelson_siegel_svensson/nss.py:43: RuntimeWarning: overflow encountered in exp\n",
      "  exp_tt2 = exp(-T/tau2)\n",
      "/opt/anaconda3/lib/python3.8/site-packages/nelson_siegel_svensson/nss.py:46: RuntimeWarning: invalid value encountered in subtract\n",
      "  factor3 = (1 - exp_tt2) / (T / tau2) - exp_tt2\n",
      " 51%|█████▏    | 123/239 [00:03<00:02, 43.65it/s]/opt/anaconda3/lib/python3.8/site-packages/nelson_siegel_svensson/nss.py:43: RuntimeWarning: overflow encountered in exp\n",
      "  exp_tt2 = exp(-T/tau2)\n",
      "/opt/anaconda3/lib/python3.8/site-packages/nelson_siegel_svensson/nss.py:46: RuntimeWarning: invalid value encountered in subtract\n",
      "  factor3 = (1 - exp_tt2) / (T / tau2) - exp_tt2\n",
      "/opt/anaconda3/lib/python3.8/site-packages/nelson_siegel_svensson/nss.py:43: RuntimeWarning: overflow encountered in exp\n",
      "  exp_tt2 = exp(-T/tau2)\n",
      "/opt/anaconda3/lib/python3.8/site-packages/nelson_siegel_svensson/nss.py:46: RuntimeWarning: invalid value encountered in subtract\n",
      "  factor3 = (1 - exp_tt2) / (T / tau2) - exp_tt2\n",
      " 79%|███████▊  | 188/239 [00:05<00:01, 31.29it/s]/opt/anaconda3/lib/python3.8/site-packages/nelson_siegel_svensson/nss.py:43: RuntimeWarning: overflow encountered in exp\n",
      "  exp_tt2 = exp(-T/tau2)\n",
      "/opt/anaconda3/lib/python3.8/site-packages/nelson_siegel_svensson/nss.py:46: RuntimeWarning: invalid value encountered in subtract\n",
      "  factor3 = (1 - exp_tt2) / (T / tau2) - exp_tt2\n",
      " 97%|█████████▋| 233/239 [00:06<00:00, 46.38it/s]/opt/anaconda3/lib/python3.8/site-packages/nelson_siegel_svensson/nss.py:43: RuntimeWarning: overflow encountered in exp\n",
      "  exp_tt2 = exp(-T/tau2)\n",
      "/opt/anaconda3/lib/python3.8/site-packages/nelson_siegel_svensson/nss.py:46: RuntimeWarning: invalid value encountered in subtract\n",
      "  factor3 = (1 - exp_tt2) / (T / tau2) - exp_tt2\n",
      "100%|██████████| 239/239 [00:06<00:00, 34.21it/s]"
     ]
    },
    {
     "name": "stdout",
     "output_type": "stream",
     "text": [
      "77 fitted not completely\n"
     ]
    },
    {
     "name": "stderr",
     "output_type": "stream",
     "text": [
      "\n"
     ]
    }
   ],
   "source": [
    "target_market, sse, dates_sse = create_market_target(data_bonds, rates)"
   ]
  },
  {
   "cell_type": "code",
   "execution_count": 49,
   "id": "743e7449",
   "metadata": {},
   "outputs": [
    {
     "data": {
      "text/html": [
       "<div>\n",
       "<style scoped>\n",
       "    .dataframe tbody tr th:only-of-type {\n",
       "        vertical-align: middle;\n",
       "    }\n",
       "\n",
       "    .dataframe tbody tr th {\n",
       "        vertical-align: top;\n",
       "    }\n",
       "\n",
       "    .dataframe thead th {\n",
       "        text-align: right;\n",
       "    }\n",
       "</style>\n",
       "<table border=\"1\" class=\"dataframe\">\n",
       "  <thead>\n",
       "    <tr style=\"text-align: right;\">\n",
       "      <th></th>\n",
       "      <th>SU26214RMFS</th>\n",
       "      <th>SU26215RMFS</th>\n",
       "      <th>SU26216RMFS</th>\n",
       "      <th>SU26217RMFS</th>\n",
       "      <th>SU26218RMFS</th>\n",
       "      <th>SU26203RMFS</th>\n",
       "      <th>SU26204RMFS</th>\n",
       "      <th>SU26205RMFS</th>\n",
       "      <th>SU26206RMFS</th>\n",
       "      <th>SU26207RMFS</th>\n",
       "      <th>SU26208RMFS</th>\n",
       "      <th>SU26209RMFS</th>\n",
       "      <th>SU26210RMFS</th>\n",
       "      <th>SU26211RMFS</th>\n",
       "      <th>SU26212RMFS</th>\n",
       "    </tr>\n",
       "    <tr>\n",
       "      <th>Date</th>\n",
       "      <th></th>\n",
       "      <th></th>\n",
       "      <th></th>\n",
       "      <th></th>\n",
       "      <th></th>\n",
       "      <th></th>\n",
       "      <th></th>\n",
       "      <th></th>\n",
       "      <th></th>\n",
       "      <th></th>\n",
       "      <th></th>\n",
       "      <th></th>\n",
       "      <th></th>\n",
       "      <th></th>\n",
       "      <th></th>\n",
       "    </tr>\n",
       "  </thead>\n",
       "  <tbody>\n",
       "    <tr>\n",
       "      <th>2015-03-02</th>\n",
       "      <td>13.840569</td>\n",
       "      <td>13.436397</td>\n",
       "      <td>14.10409</td>\n",
       "      <td>13.638814</td>\n",
       "      <td>13.115709</td>\n",
       "      <td>16.225183</td>\n",
       "      <td>14.616077</td>\n",
       "      <td>13.687301</td>\n",
       "      <td>15.185467</td>\n",
       "      <td>13.245579</td>\n",
       "      <td>14.174794</td>\n",
       "      <td>13.531775</td>\n",
       "      <td>13.943358</td>\n",
       "      <td>13.48255</td>\n",
       "      <td>13.21098</td>\n",
       "    </tr>\n",
       "    <tr>\n",
       "      <th>2015-03-03</th>\n",
       "      <td>13.827112</td>\n",
       "      <td>13.432956</td>\n",
       "      <td>14.087667</td>\n",
       "      <td>13.629846</td>\n",
       "      <td>13.121495</td>\n",
       "      <td>16.25466</td>\n",
       "      <td>14.604137</td>\n",
       "      <td>13.677125</td>\n",
       "      <td>15.187871</td>\n",
       "      <td>13.24761</td>\n",
       "      <td>14.15823</td>\n",
       "      <td>13.525661</td>\n",
       "      <td>13.928297</td>\n",
       "      <td>13.477806</td>\n",
       "      <td>13.21401</td>\n",
       "    </tr>\n",
       "  </tbody>\n",
       "</table>\n",
       "</div>"
      ],
      "text/plain": [
       "           SU26214RMFS SU26215RMFS SU26216RMFS SU26217RMFS SU26218RMFS  \\\n",
       "Date                                                                     \n",
       "2015-03-02   13.840569   13.436397    14.10409   13.638814   13.115709   \n",
       "2015-03-03   13.827112   13.432956   14.087667   13.629846   13.121495   \n",
       "\n",
       "           SU26203RMFS SU26204RMFS SU26205RMFS SU26206RMFS SU26207RMFS  \\\n",
       "Date                                                                     \n",
       "2015-03-02   16.225183   14.616077   13.687301   15.185467   13.245579   \n",
       "2015-03-03    16.25466   14.604137   13.677125   15.187871    13.24761   \n",
       "\n",
       "           SU26208RMFS SU26209RMFS SU26210RMFS SU26211RMFS SU26212RMFS  \n",
       "Date                                                                    \n",
       "2015-03-02   14.174794   13.531775   13.943358    13.48255    13.21098  \n",
       "2015-03-03    14.15823   13.525661   13.928297   13.477806    13.21401  "
      ]
     },
     "execution_count": 49,
     "metadata": {},
     "output_type": "execute_result"
    }
   ],
   "source": [
    "target_market.head(2)"
   ]
  },
  {
   "cell_type": "code",
   "execution_count": 50,
   "id": "925e34da",
   "metadata": {},
   "outputs": [
    {
     "data": {
      "text/plain": [
       "0"
      ]
     },
     "execution_count": 50,
     "metadata": {},
     "output_type": "execute_result"
    }
   ],
   "source": [
    "target_market.isna().sum().sum()"
   ]
  },
  {
   "cell_type": "code",
   "execution_count": 51,
   "id": "4d7096aa",
   "metadata": {},
   "outputs": [
    {
     "data": {
      "text/plain": [
       "(239, 15)"
      ]
     },
     "execution_count": 51,
     "metadata": {},
     "output_type": "execute_result"
    }
   ],
   "source": [
    "target_market.shape"
   ]
  },
  {
   "cell_type": "code",
   "execution_count": 52,
   "id": "6779daba",
   "metadata": {},
   "outputs": [],
   "source": [
    "target_market = target_market.astype('float')"
   ]
  },
  {
   "cell_type": "code",
   "execution_count": 54,
   "id": "f21c6949",
   "metadata": {},
   "outputs": [
    {
     "data": {
      "image/png": "[encoded data removed]",
      "text/plain": [
       "<Figure size 1080x720 with 1 Axes>"
      ]
     },
     "metadata": {
      "needs_background": "light"
     },
     "output_type": "display_data"
    }
   ],
   "source": [
    "fig, ax = plt.subplots(figsize=(15, 10))\n",
    "sns.lineplot(data = target_market.drop(columns=['SU26217RMFS', 'SU26218RMFS']))\n",
    "plt.grid()\n",
    "plt.savefig(os.path.join(base_path, 'graphs/all_OTC_rates.png'), dpi=300)"
   ]
  },
  {
   "cell_type": "code",
   "execution_count": 55,
   "id": "862c051e",
   "metadata": {},
   "outputs": [
    {
     "data": {
      "image/png": "[encoded data removed]",
      "text/plain": [
       "<Figure size 432x288 with 1 Axes>"
      ]
     },
     "metadata": {
      "needs_background": "light"
     },
     "output_type": "display_data"
    }
   ],
   "source": [
    "fig, ax = plt.subplots()\n",
    "sns.histplot(sse, bins=15)\n",
    "plt.title('Distribution of squared errors of the fitted models')\n",
    "plt.show()"
   ]
  },
  {
   "cell_type": "code",
   "execution_count": 56,
   "id": "16c972ca",
   "metadata": {},
   "outputs": [
    {
     "data": {
      "text/html": [
       "<div>\n",
       "<style scoped>\n",
       "    .dataframe tbody tr th:only-of-type {\n",
       "        vertical-align: middle;\n",
       "    }\n",
       "\n",
       "    .dataframe tbody tr th {\n",
       "        vertical-align: top;\n",
       "    }\n",
       "\n",
       "    .dataframe thead tr th {\n",
       "        text-align: left;\n",
       "    }\n",
       "\n",
       "    .dataframe thead tr:last-of-type th {\n",
       "        text-align: right;\n",
       "    }\n",
       "</style>\n",
       "<table border=\"1\" class=\"dataframe\">\n",
       "  <thead>\n",
       "    <tr>\n",
       "      <th></th>\n",
       "      <th colspan=\"6\" halign=\"left\">SSE</th>\n",
       "    </tr>\n",
       "    <tr>\n",
       "      <th></th>\n",
       "      <th>min</th>\n",
       "      <th>q10</th>\n",
       "      <th>mean</th>\n",
       "      <th>median</th>\n",
       "      <th>q90</th>\n",
       "      <th>max</th>\n",
       "    </tr>\n",
       "    <tr>\n",
       "      <th>Date</th>\n",
       "      <th></th>\n",
       "      <th></th>\n",
       "      <th></th>\n",
       "      <th></th>\n",
       "      <th></th>\n",
       "      <th></th>\n",
       "    </tr>\n",
       "  </thead>\n",
       "  <tbody>\n",
       "    <tr>\n",
       "      <th>2015-06-30</th>\n",
       "      <td>0.008718</td>\n",
       "      <td>0.013697</td>\n",
       "      <td>0.054630</td>\n",
       "      <td>0.051198</td>\n",
       "      <td>0.100016</td>\n",
       "      <td>0.113831</td>\n",
       "    </tr>\n",
       "    <tr>\n",
       "      <th>2015-07-31</th>\n",
       "      <td>0.011956</td>\n",
       "      <td>0.016935</td>\n",
       "      <td>0.040097</td>\n",
       "      <td>0.033736</td>\n",
       "      <td>0.069454</td>\n",
       "      <td>0.098635</td>\n",
       "    </tr>\n",
       "    <tr>\n",
       "      <th>2015-08-31</th>\n",
       "      <td>0.008935</td>\n",
       "      <td>0.014724</td>\n",
       "      <td>0.070759</td>\n",
       "      <td>0.052939</td>\n",
       "      <td>0.117367</td>\n",
       "      <td>0.259222</td>\n",
       "    </tr>\n",
       "    <tr>\n",
       "      <th>2015-09-30</th>\n",
       "      <td>0.033139</td>\n",
       "      <td>0.054472</td>\n",
       "      <td>0.137508</td>\n",
       "      <td>0.126186</td>\n",
       "      <td>0.240769</td>\n",
       "      <td>0.278741</td>\n",
       "    </tr>\n",
       "    <tr>\n",
       "      <th>2015-10-31</th>\n",
       "      <td>0.006782</td>\n",
       "      <td>0.008188</td>\n",
       "      <td>0.032027</td>\n",
       "      <td>0.019881</td>\n",
       "      <td>0.067671</td>\n",
       "      <td>0.108603</td>\n",
       "    </tr>\n",
       "    <tr>\n",
       "      <th>2015-11-30</th>\n",
       "      <td>0.007603</td>\n",
       "      <td>0.019907</td>\n",
       "      <td>0.073764</td>\n",
       "      <td>0.050271</td>\n",
       "      <td>0.182037</td>\n",
       "      <td>0.193113</td>\n",
       "    </tr>\n",
       "    <tr>\n",
       "      <th>2015-12-31</th>\n",
       "      <td>0.011587</td>\n",
       "      <td>0.018632</td>\n",
       "      <td>0.059470</td>\n",
       "      <td>0.058206</td>\n",
       "      <td>0.103956</td>\n",
       "      <td>0.125530</td>\n",
       "    </tr>\n",
       "    <tr>\n",
       "      <th>2016-01-31</th>\n",
       "      <td>0.007042</td>\n",
       "      <td>0.010524</td>\n",
       "      <td>0.054422</td>\n",
       "      <td>0.040165</td>\n",
       "      <td>0.103914</td>\n",
       "      <td>0.217782</td>\n",
       "    </tr>\n",
       "    <tr>\n",
       "      <th>2016-02-29</th>\n",
       "      <td>0.008409</td>\n",
       "      <td>0.030212</td>\n",
       "      <td>0.052856</td>\n",
       "      <td>0.047066</td>\n",
       "      <td>0.083978</td>\n",
       "      <td>0.091750</td>\n",
       "    </tr>\n",
       "  </tbody>\n",
       "</table>\n",
       "</div>"
      ],
      "text/plain": [
       "                 SSE                                                  \n",
       "                 min       q10      mean    median       q90       max\n",
       "Date                                                                  \n",
       "2015-06-30  0.008718  0.013697  0.054630  0.051198  0.100016  0.113831\n",
       "2015-07-31  0.011956  0.016935  0.040097  0.033736  0.069454  0.098635\n",
       "2015-08-31  0.008935  0.014724  0.070759  0.052939  0.117367  0.259222\n",
       "2015-09-30  0.033139  0.054472  0.137508  0.126186  0.240769  0.278741\n",
       "2015-10-31  0.006782  0.008188  0.032027  0.019881  0.067671  0.108603\n",
       "2015-11-30  0.007603  0.019907  0.073764  0.050271  0.182037  0.193113\n",
       "2015-12-31  0.011587  0.018632  0.059470  0.058206  0.103956  0.125530\n",
       "2016-01-31  0.007042  0.010524  0.054422  0.040165  0.103914  0.217782\n",
       "2016-02-29  0.008409  0.030212  0.052856  0.047066  0.083978  0.091750"
      ]
     },
     "execution_count": 56,
     "metadata": {},
     "output_type": "execute_result"
    }
   ],
   "source": [
    "sse_info = pd.DataFrame(sse, columns = ['SSE'], index = dates_sse)\n",
    "sse_info.index.name = 'Date'\n",
    "\n",
    "# 90th Percentile\n",
    "def q90(x):\n",
    "    return x.quantile(0.9)\n",
    "\n",
    "def q10(x):\n",
    "    return x.quantile(0.1)\n",
    "\n",
    "sse_info = sse_info.resample('M').agg({'SSE': [min, q10, 'mean', 'median', q90, max]}).loc['2015-06':]\n",
    "sse_info"
   ]
  },
  {
   "cell_type": "code",
   "execution_count": 57,
   "id": "5a2ccd0c",
   "metadata": {},
   "outputs": [],
   "source": [
    "sse_info.to_excel(os.path.join(base_path, 'stats/sse_info.xlsx'))"
   ]
  },
  {
   "cell_type": "code",
   "execution_count": 58,
   "id": "fbc52491",
   "metadata": {},
   "outputs": [],
   "source": [
    "target_market.to_excel(os.path.join(base_path, 'data/market_target.xlsx'))"
   ]
  },
  {
   "cell_type": "markdown",
   "id": "36c19cc7",
   "metadata": {},
   "source": [
    "## Same but for MosPrime rate\n",
    "\n",
    "- restart the kernel before"
   ]
  },
  {
   "cell_type": "code",
   "execution_count": 11,
   "id": "44b5dbe7",
   "metadata": {},
   "outputs": [
    {
     "data": {
      "text/html": [
       "<div>\n",
       "<style scoped>\n",
       "    .dataframe tbody tr th:only-of-type {\n",
       "        vertical-align: middle;\n",
       "    }\n",
       "\n",
       "    .dataframe tbody tr th {\n",
       "        vertical-align: top;\n",
       "    }\n",
       "\n",
       "    .dataframe thead th {\n",
       "        text-align: right;\n",
       "    }\n",
       "</style>\n",
       "<table border=\"1\" class=\"dataframe\">\n",
       "  <thead>\n",
       "    <tr style=\"text-align: right;\">\n",
       "      <th></th>\n",
       "      <th>overnight_mosprime</th>\n",
       "      <th>1W</th>\n",
       "      <th>2W</th>\n",
       "      <th>1M</th>\n",
       "      <th>2M</th>\n",
       "      <th>3M</th>\n",
       "      <th>6M</th>\n",
       "    </tr>\n",
       "    <tr>\n",
       "      <th>Date</th>\n",
       "      <th></th>\n",
       "      <th></th>\n",
       "      <th></th>\n",
       "      <th></th>\n",
       "      <th></th>\n",
       "      <th></th>\n",
       "      <th></th>\n",
       "    </tr>\n",
       "  </thead>\n",
       "  <tbody>\n",
       "    <tr>\n",
       "      <th>2015-03-02</th>\n",
       "      <td>15.95</td>\n",
       "      <td>15.99</td>\n",
       "      <td>16.06</td>\n",
       "      <td>16.56</td>\n",
       "      <td>16.76</td>\n",
       "      <td>17.07</td>\n",
       "      <td>17.07</td>\n",
       "    </tr>\n",
       "    <tr>\n",
       "      <th>2015-03-03</th>\n",
       "      <td>15.96</td>\n",
       "      <td>15.98</td>\n",
       "      <td>16.06</td>\n",
       "      <td>16.55</td>\n",
       "      <td>16.76</td>\n",
       "      <td>17.06</td>\n",
       "      <td>17.09</td>\n",
       "    </tr>\n",
       "    <tr>\n",
       "      <th>2015-03-04</th>\n",
       "      <td>15.94</td>\n",
       "      <td>15.98</td>\n",
       "      <td>16.05</td>\n",
       "      <td>16.50</td>\n",
       "      <td>16.73</td>\n",
       "      <td>17.05</td>\n",
       "      <td>17.08</td>\n",
       "    </tr>\n",
       "  </tbody>\n",
       "</table>\n",
       "</div>"
      ],
      "text/plain": [
       "            overnight_mosprime     1W     2W     1M     2M     3M     6M\n",
       "Date                                                                    \n",
       "2015-03-02               15.95  15.99  16.06  16.56  16.76  17.07  17.07\n",
       "2015-03-03               15.96  15.98  16.06  16.55  16.76  17.06  17.09\n",
       "2015-03-04               15.94  15.98  16.05  16.50  16.73  17.05  17.08"
      ]
     },
     "execution_count": 11,
     "metadata": {},
     "output_type": "execute_result"
    }
   ],
   "source": [
    "mos = pd.read_excel(os.path.join(base_path, 'data/raw_data/rates_OTC_market/mosprime_all.xlsx'), index_col='Date',\n",
    "                       parse_dates = True)\n",
    "mos.head(3)"
   ]
  },
  {
   "cell_type": "code",
   "execution_count": 12,
   "id": "d4fce9d1",
   "metadata": {},
   "outputs": [
    {
     "data": {
      "image/png": "[encoded data removed]",
      "text/plain": [
       "<Figure size 648x648 with 1 Axes>"
      ]
     },
     "metadata": {
      "needs_background": "light"
     },
     "output_type": "display_data"
    }
   ],
   "source": [
    "fig, ax = plt.subplots(figsize=(9, 9))\n",
    "sns.scatterplot(x = mos['6M'], y = rates['1_year'])\n",
    "plt.xlabel('MosPrime 6M', fontsize=15)\n",
    "plt.ylabel('Bloomberg 1 year rates', fontsize=15)\n",
    "plt.title('Bloomberg swap rates for 1 year vs RoisFix 6 months', fontsize=15)\n",
    "plt.grid()\n",
    "plt.show()"
   ]
  },
  {
   "cell_type": "code",
   "execution_count": 13,
   "id": "57a51f43",
   "metadata": {},
   "outputs": [
    {
     "data": {
      "text/html": [
       "<div>\n",
       "<style scoped>\n",
       "    .dataframe tbody tr th:only-of-type {\n",
       "        vertical-align: middle;\n",
       "    }\n",
       "\n",
       "    .dataframe tbody tr th {\n",
       "        vertical-align: top;\n",
       "    }\n",
       "\n",
       "    .dataframe thead th {\n",
       "        text-align: right;\n",
       "    }\n",
       "</style>\n",
       "<table border=\"1\" class=\"dataframe\">\n",
       "  <thead>\n",
       "    <tr style=\"text-align: right;\">\n",
       "      <th></th>\n",
       "      <th>Date</th>\n",
       "      <th>6M</th>\n",
       "      <th>1_year</th>\n",
       "      <th>6M_2</th>\n",
       "      <th>6M_3</th>\n",
       "      <th>const</th>\n",
       "    </tr>\n",
       "  </thead>\n",
       "  <tbody>\n",
       "    <tr>\n",
       "      <th>0</th>\n",
       "      <td>2015-03-02</td>\n",
       "      <td>17.07</td>\n",
       "      <td>16.99</td>\n",
       "      <td>291.3849</td>\n",
       "      <td>4973.940243</td>\n",
       "      <td>1</td>\n",
       "    </tr>\n",
       "    <tr>\n",
       "      <th>1</th>\n",
       "      <td>2015-03-03</td>\n",
       "      <td>17.09</td>\n",
       "      <td>17.04</td>\n",
       "      <td>292.0681</td>\n",
       "      <td>4991.443829</td>\n",
       "      <td>1</td>\n",
       "    </tr>\n",
       "  </tbody>\n",
       "</table>\n",
       "</div>"
      ],
      "text/plain": [
       "        Date     6M  1_year      6M_2         6M_3  const\n",
       "0 2015-03-02  17.07   16.99  291.3849  4973.940243      1\n",
       "1 2015-03-03  17.09   17.04  292.0681  4991.443829      1"
      ]
     },
     "execution_count": 13,
     "metadata": {},
     "output_type": "execute_result"
    }
   ],
   "source": [
    "data_for_reg = pd.DataFrame(mos['6M'].reset_index()).merge( #mos\n",
    "               pd.DataFrame(rates['1_year'].reset_index()), \n",
    "               how='outer', on='Date')\n",
    "\n",
    "data_for_reg['6M_2'] = data_for_reg['6M'] ** 2\n",
    "data_for_reg['6M_3'] = data_for_reg['6M'] ** 3\n",
    "data_for_reg['const'] = 1\n",
    "\n",
    "data_for_reg.head(2)"
   ]
  },
  {
   "cell_type": "code",
   "execution_count": 14,
   "id": "8b1cc5b3",
   "metadata": {},
   "outputs": [],
   "source": [
    "to_fill = data_for_reg.loc[data_for_reg['1_year'].isna() == True] #sample to be filled later\n",
    "data_for_reg = data_for_reg.loc[data_for_reg.isna().sum(axis=1) == 0] #sample for regression\n",
    "\n",
    "train = data_for_reg.sample(n = 125, random_state = 27) #85%\n",
    "test = data_for_reg.loc[~data_for_reg.index.isin(train.index)]"
   ]
  },
  {
   "cell_type": "code",
   "execution_count": 15,
   "id": "92656e5a",
   "metadata": {},
   "outputs": [
    {
     "data": {
      "text/html": [
       "<table class=\"simpletable\">\n",
       "<caption>OLS Regression Results</caption>\n",
       "<tr>\n",
       "  <th>Dep. Variable:</th>         <td>1_year</td>      <th>  R-squared:         </th> <td>   0.934</td>\n",
       "</tr>\n",
       "<tr>\n",
       "  <th>Model:</th>                   <td>OLS</td>       <th>  Adj. R-squared:    </th> <td>   0.933</td>\n",
       "</tr>\n",
       "<tr>\n",
       "  <th>Method:</th>             <td>Least Squares</td>  <th>  F-statistic:       </th> <td>   572.6</td>\n",
       "</tr>\n",
       "<tr>\n",
       "  <th>Date:</th>             <td>Sat, 16 Apr 2022</td> <th>  Prob (F-statistic):</th> <td>2.72e-71</td>\n",
       "</tr>\n",
       "<tr>\n",
       "  <th>Time:</th>                 <td>16:20:22</td>     <th>  Log-Likelihood:    </th> <td> -22.424</td>\n",
       "</tr>\n",
       "<tr>\n",
       "  <th>No. Observations:</th>      <td>   125</td>      <th>  AIC:               </th> <td>   52.85</td>\n",
       "</tr>\n",
       "<tr>\n",
       "  <th>Df Residuals:</th>          <td>   121</td>      <th>  BIC:               </th> <td>   64.16</td>\n",
       "</tr>\n",
       "<tr>\n",
       "  <th>Df Model:</th>              <td>     3</td>      <th>                     </th>     <td> </td>   \n",
       "</tr>\n",
       "<tr>\n",
       "  <th>Covariance Type:</th>      <td>nonrobust</td>    <th>                     </th>     <td> </td>   \n",
       "</tr>\n",
       "</table>\n",
       "<table class=\"simpletable\">\n",
       "<tr>\n",
       "    <td></td>       <th>coef</th>     <th>std err</th>      <th>t</th>      <th>P>|t|</th>  <th>[0.025</th>    <th>0.975]</th>  \n",
       "</tr>\n",
       "<tr>\n",
       "  <th>6M</th>    <td>   51.5248</td> <td>    6.906</td> <td>    7.460</td> <td> 0.000</td> <td>   37.852</td> <td>   65.198</td>\n",
       "</tr>\n",
       "<tr>\n",
       "  <th>6M_2</th>  <td>   -3.6558</td> <td>    0.492</td> <td>   -7.424</td> <td> 0.000</td> <td>   -4.631</td> <td>   -2.681</td>\n",
       "</tr>\n",
       "<tr>\n",
       "  <th>6M_3</th>  <td>    0.0871</td> <td>    0.012</td> <td>    7.496</td> <td> 0.000</td> <td>    0.064</td> <td>    0.110</td>\n",
       "</tr>\n",
       "<tr>\n",
       "  <th>const</th> <td> -230.3286</td> <td>   32.054</td> <td>   -7.186</td> <td> 0.000</td> <td> -293.788</td> <td> -166.869</td>\n",
       "</tr>\n",
       "</table>\n",
       "<table class=\"simpletable\">\n",
       "<tr>\n",
       "  <th>Omnibus:</th>       <td>15.034</td> <th>  Durbin-Watson:     </th> <td>   2.408</td>\n",
       "</tr>\n",
       "<tr>\n",
       "  <th>Prob(Omnibus):</th> <td> 0.001</td> <th>  Jarque-Bera (JB):  </th> <td>  17.598</td>\n",
       "</tr>\n",
       "<tr>\n",
       "  <th>Skew:</th>          <td> 0.737</td> <th>  Prob(JB):          </th> <td>0.000151</td>\n",
       "</tr>\n",
       "<tr>\n",
       "  <th>Kurtosis:</th>      <td> 4.099</td> <th>  Cond. No.          </th> <td>2.94e+06</td>\n",
       "</tr>\n",
       "</table><br/><br/>Notes:<br/>[1] Standard Errors assume that the covariance matrix of the errors is correctly specified.<br/>[2] The condition number is large, 2.94e+06. This might indicate that there are<br/>strong multicollinearity or other numerical problems."
      ],
      "text/plain": [
       "<class 'statsmodels.iolib.summary.Summary'>\n",
       "\"\"\"\n",
       "                            OLS Regression Results                            \n",
       "==============================================================================\n",
       "Dep. Variable:                 1_year   R-squared:                       0.934\n",
       "Model:                            OLS   Adj. R-squared:                  0.933\n",
       "Method:                 Least Squares   F-statistic:                     572.6\n",
       "Date:                Sat, 16 Apr 2022   Prob (F-statistic):           2.72e-71\n",
       "Time:                        16:20:22   Log-Likelihood:                -22.424\n",
       "No. Observations:                 125   AIC:                             52.85\n",
       "Df Residuals:                     121   BIC:                             64.16\n",
       "Df Model:                           3                                         \n",
       "Covariance Type:            nonrobust                                         \n",
       "==============================================================================\n",
       "                 coef    std err          t      P>|t|      [0.025      0.975]\n",
       "------------------------------------------------------------------------------\n",
       "6M            51.5248      6.906      7.460      0.000      37.852      65.198\n",
       "6M_2          -3.6558      0.492     -7.424      0.000      -4.631      -2.681\n",
       "6M_3           0.0871      0.012      7.496      0.000       0.064       0.110\n",
       "const       -230.3286     32.054     -7.186      0.000    -293.788    -166.869\n",
       "==============================================================================\n",
       "Omnibus:                       15.034   Durbin-Watson:                   2.408\n",
       "Prob(Omnibus):                  0.001   Jarque-Bera (JB):               17.598\n",
       "Skew:                           0.737   Prob(JB):                     0.000151\n",
       "Kurtosis:                       4.099   Cond. No.                     2.94e+06\n",
       "==============================================================================\n",
       "\n",
       "Notes:\n",
       "[1] Standard Errors assume that the covariance matrix of the errors is correctly specified.\n",
       "[2] The condition number is large, 2.94e+06. This might indicate that there are\n",
       "strong multicollinearity or other numerical problems.\n",
       "\"\"\""
      ]
     },
     "execution_count": 15,
     "metadata": {},
     "output_type": "execute_result"
    }
   ],
   "source": [
    "from statsmodels.regression.linear_model import OLS\n",
    "\n",
    "model = OLS(train['1_year'], train[['6M', '6M_2', '6M_3','const']]).fit()\n",
    "predictions = model.predict()\n",
    "model.summary()"
   ]
  },
  {
   "cell_type": "code",
   "execution_count": 18,
   "id": "7c39ecb6",
   "metadata": {},
   "outputs": [
    {
     "name": "stdout",
     "output_type": "stream",
     "text": [
      "R squared: 0.8980207603111993\n",
      "MSE: 0.17950543584399212\n",
      "RMSE: 0.42368081835739524\n"
     ]
    }
   ],
   "source": [
    "test_predictions = model.predict(test[['6M', '6M_2', '6M_3','const']])\n",
    "print(f'R squared: {r2_score(test[\"1_year\"], test_predictions)}')\n",
    "print(f'MSE: {mean_squared_error(test[\"1_year\"], test_predictions)}')\n",
    "print(f'RMSE: {mean_squared_error(test[\"1_year\"], test_predictions, squared=False)}')"
   ]
  },
  {
   "cell_type": "code",
   "execution_count": null,
   "id": "16991234",
   "metadata": {},
   "outputs": [],
   "source": []
  }
 ],
 "metadata": {
  "kernelspec": {
   "display_name": "Python 3",
   "language": "python",
   "name": "python3"
  },
  "language_info": {
   "codemirror_mode": {
    "name": "ipython",
    "version": 3
   },
   "file_extension": ".py",
   "mimetype": "text/x-python",
   "name": "python",
   "nbconvert_exporter": "python",
   "pygments_lexer": "ipython3",
   "version": "3.8.8"
  }
 },
 "nbformat": 4,
 "nbformat_minor": 5
}
