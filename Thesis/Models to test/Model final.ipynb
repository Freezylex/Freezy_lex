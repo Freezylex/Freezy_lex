{
 "cells": [
  {
   "cell_type": "code",
   "execution_count": 1,
   "id": "0cf1bbb3",
   "metadata": {},
   "outputs": [],
   "source": [
    "import pandas as pd\n",
    "import numpy as np\n",
    "import os\n",
    "from tqdm import tqdm\n",
    "base_path = '/Users/freezylex/Documents/course_work'\n",
    "import matplotlib.pyplot as plt\n",
    "import seaborn as sns\n",
    "import warnings\n",
    "from datetime import datetime\n",
    "from statsmodels.regression.linear_model import OLS\n",
    "from sklearn.metrics import mean_absolute_error as mae\n",
    "warnings.filterwarnings('ignore')"
   ]
  },
  {
   "cell_type": "markdown",
   "id": "655dbc41",
   "metadata": {},
   "source": [
    "# Target"
   ]
  },
  {
   "cell_type": "code",
   "execution_count": 2,
   "id": "7064dc81",
   "metadata": {},
   "outputs": [
    {
     "data": {
      "text/html": [
       "<div>\n",
       "<style scoped>\n",
       "    .dataframe tbody tr th:only-of-type {\n",
       "        vertical-align: middle;\n",
       "    }\n",
       "\n",
       "    .dataframe tbody tr th {\n",
       "        vertical-align: top;\n",
       "    }\n",
       "\n",
       "    .dataframe thead th {\n",
       "        text-align: right;\n",
       "    }\n",
       "</style>\n",
       "<table border=\"1\" class=\"dataframe\">\n",
       "  <thead>\n",
       "    <tr style=\"text-align: right;\">\n",
       "      <th></th>\n",
       "      <th>SU26214RMFS</th>\n",
       "      <th>SU26215RMFS</th>\n",
       "      <th>SU26216RMFS</th>\n",
       "      <th>SU26203RMFS</th>\n",
       "      <th>SU26204RMFS</th>\n",
       "      <th>SU26205RMFS</th>\n",
       "      <th>SU26206RMFS</th>\n",
       "      <th>SU26207RMFS</th>\n",
       "      <th>SU26208RMFS</th>\n",
       "      <th>SU26209RMFS</th>\n",
       "      <th>SU26210RMFS</th>\n",
       "      <th>SU26211RMFS</th>\n",
       "      <th>SU26212RMFS</th>\n",
       "    </tr>\n",
       "    <tr>\n",
       "      <th>Date</th>\n",
       "      <th></th>\n",
       "      <th></th>\n",
       "      <th></th>\n",
       "      <th></th>\n",
       "      <th></th>\n",
       "      <th></th>\n",
       "      <th></th>\n",
       "      <th></th>\n",
       "      <th></th>\n",
       "      <th></th>\n",
       "      <th></th>\n",
       "      <th></th>\n",
       "      <th></th>\n",
       "    </tr>\n",
       "  </thead>\n",
       "  <tbody>\n",
       "    <tr>\n",
       "      <th>2015-03-02</th>\n",
       "      <td>-71.009402</td>\n",
       "      <td>-16.198293</td>\n",
       "      <td>-51.672678</td>\n",
       "      <td>213.214039</td>\n",
       "      <td>8.877833</td>\n",
       "      <td>-69.514138</td>\n",
       "      <td>81.363229</td>\n",
       "      <td>81.611366</td>\n",
       "      <td>-44.294101</td>\n",
       "      <td>-46.555882</td>\n",
       "      <td>-65.581271</td>\n",
       "      <td>-32.632524</td>\n",
       "      <td>103.025743</td>\n",
       "    </tr>\n",
       "    <tr>\n",
       "      <th>2015-03-03</th>\n",
       "      <td>7.255880</td>\n",
       "      <td>45.041981</td>\n",
       "      <td>17.967756</td>\n",
       "      <td>263.188637</td>\n",
       "      <td>62.406383</td>\n",
       "      <td>10.363783</td>\n",
       "      <td>125.481830</td>\n",
       "      <td>112.795674</td>\n",
       "      <td>22.874165</td>\n",
       "      <td>26.012453</td>\n",
       "      <td>9.625523</td>\n",
       "      <td>34.752162</td>\n",
       "      <td>129.932953</td>\n",
       "    </tr>\n",
       "  </tbody>\n",
       "</table>\n",
       "</div>"
      ],
      "text/plain": [
       "            SU26214RMFS  SU26215RMFS  SU26216RMFS  SU26203RMFS  SU26204RMFS  \\\n",
       "Date                                                                          \n",
       "2015-03-02   -71.009402   -16.198293   -51.672678   213.214039     8.877833   \n",
       "2015-03-03     7.255880    45.041981    17.967756   263.188637    62.406383   \n",
       "\n",
       "            SU26205RMFS  SU26206RMFS  SU26207RMFS  SU26208RMFS  SU26209RMFS  \\\n",
       "Date                                                                          \n",
       "2015-03-02   -69.514138    81.363229    81.611366   -44.294101   -46.555882   \n",
       "2015-03-03    10.363783   125.481830   112.795674    22.874165    26.012453   \n",
       "\n",
       "            SU26210RMFS  SU26211RMFS  SU26212RMFS  \n",
       "Date                                               \n",
       "2015-03-02   -65.581271   -32.632524   103.025743  \n",
       "2015-03-03     9.625523    34.752162   129.932953  "
      ]
     },
     "execution_count": 2,
     "metadata": {},
     "output_type": "execute_result"
    }
   ],
   "source": [
    "target_path = 'data/final_target.xlsx'\n",
    "target = pd.read_excel(os.path.join(base_path, target_path), index_col = 'Date',\n",
    "                       parse_dates=True)\n",
    "target.drop(columns=['SU26217RMFS', 'SU26218RMFS'], inplace=True)\n",
    "target.head(2)"
   ]
  },
  {
   "cell_type": "markdown",
   "id": "e77143f4",
   "metadata": {},
   "source": [
    "# Metrics"
   ]
  },
  {
   "cell_type": "code",
   "execution_count": 3,
   "id": "56c1fc32",
   "metadata": {},
   "outputs": [],
   "source": [
    "metric_path = os.path.join(base_path, 'data/metrics_final')\n",
    "\n",
    "rvi = pd.read_csv(os.path.join(metric_path, 'rvi.csv'), index_col = 'Date', parse_dates = True).loc['2015-06-01':]\n",
    "cds = pd.read_csv(os.path.join(metric_path, 'cds.csv'), index_col = 'Date', parse_dates = True).loc['2015-06-01':]\n",
    "#usdrub = pd.read_csv(os.path.join(metric_path, 'usdrub.csv'), index_col = 'Date', parse_dates = True).loc['2015-06-01':]\n",
    "BA = pd.read_csv(os.path.join(metric_path, 'BA.csv'), index_col = 'Date', parse_dates = True)\n",
    "TC = pd.read_csv(os.path.join(metric_path, 'TC.csv'), index_col = 'Date', parse_dates = True)\n",
    "PD = pd.read_csv(os.path.join(metric_path, 'PD.csv'), index_col = 'Date', parse_dates = True)\n",
    "TR = pd.read_excel(os.path.join(metric_path, 'till_redemption.xlsx'), index_col = 'Date', parse_dates = True)\n",
    "curve = pd.read_csv(os.path.join(metric_path, 'PCA_curve.csv'), index_col = 'Date', parse_dates = True)"
   ]
  },
  {
   "cell_type": "markdown",
   "id": "fdb49fb7",
   "metadata": {},
   "source": [
    "# Join"
   ]
  },
  {
   "cell_type": "code",
   "execution_count": 4,
   "id": "47299cbd",
   "metadata": {},
   "outputs": [],
   "source": [
    "available_indexes = list((set(rvi.index) & set(cds.index) & \\\n",
    "                          set(BA.index) & set(target.index)))\n",
    "available_indexes = np.sort(np.array(available_indexes))"
   ]
  },
  {
   "cell_type": "code",
   "execution_count": 5,
   "id": "44bf05fa",
   "metadata": {},
   "outputs": [
    {
     "data": {
      "text/plain": [
       "178"
      ]
     },
     "execution_count": 5,
     "metadata": {},
     "output_type": "execute_result"
    }
   ],
   "source": [
    "len(available_indexes)"
   ]
  },
  {
   "cell_type": "code",
   "execution_count": 6,
   "id": "9fbb7d76",
   "metadata": {},
   "outputs": [],
   "source": [
    "target = target.loc[available_indexes]\n",
    "\n",
    "rvi = rvi.loc[available_indexes]\n",
    "cds = cds.loc[available_indexes]\n",
    "#usdrub = usdrub.loc[available_indexes]\n",
    "BA = BA.loc[available_indexes]\n",
    "TC = TC.loc[available_indexes]\n",
    "PD = PD.loc[available_indexes]\n",
    "TR = TR.loc[available_indexes]\n",
    "curve = curve.loc[available_indexes]"
   ]
  },
  {
   "cell_type": "code",
   "execution_count": 7,
   "id": "ddbc007d",
   "metadata": {},
   "outputs": [],
   "source": [
    "def make_dataset_for_bond(bond_name):\n",
    "    complete_data = pd.DataFrame(columns = ['log_PD', 'log_BA', 'log_TC', \n",
    "                                            'TR', 'RVI', 'CDS',\n",
    "                                            'level', 'slope','curvature','target'],\n",
    "                                index = target.index)\n",
    "    complete_data['log_BA'] = BA[bond_name]\n",
    "    complete_data['LT_BA'] = BA[f\"{bond_name}_low_trading_dummy\"]\n",
    "    \n",
    "    complete_data['log_PD'] = PD[bond_name]\n",
    "    complete_data['LT_PD'] = PD[f\"{bond_name}_low_trading_dummy\"]\n",
    "    \n",
    "    complete_data['log_TC'] = TC[bond_name]\n",
    "    complete_data['LT_TC'] = TC[f\"{bond_name}_low_trading_dummy\"]\n",
    "    \n",
    "    complete_data['RVI'] = rvi['RVI']\n",
    "    complete_data['RVI_struct_coef'] = rvi['struct_coef']\n",
    "    complete_data['dummy_struct_Jan'] = rvi['dummy_struct_change']\n",
    "    \n",
    "    complete_data['CDS_dummy'] = cds['CDS_dummy_struct']\n",
    "    complete_data['CDS'] = cds['CDS1Y']\n",
    "    complete_data['CDS_new_slope'] = cds['CDS_struct_coef']\n",
    "    \n",
    "    #complete_data['USDRUB'] = usdrub['USDRUB_CBR']\n",
    "    #complete_data['oil_shock_1st_USDRUB_dummy'] = usdrub['dummy_1_oil_shock']\n",
    "    #complete_data['oil_shock_1st_USDRUB_coef'] = usdrub['USDcoef_oil_shock_1']\n",
    "    \n",
    "    complete_data['TR'] = TR[bond_name]\n",
    "    complete_data['target'] = target[bond_name]\n",
    "    \n",
    "    complete_data['level'] = curve['level']\n",
    "    complete_data['slope'] = curve['slope']\n",
    "    complete_data['curvature'] = curve['curvature']\n",
    "    \n",
    "    return complete_data"
   ]
  },
  {
   "cell_type": "markdown",
   "id": "967463c3",
   "metadata": {},
   "source": [
    "# Build model"
   ]
  },
  {
   "cell_type": "code",
   "execution_count": 8,
   "id": "6f6ab2a9",
   "metadata": {},
   "outputs": [],
   "source": [
    "def make_model(train_sample, test_sample, factors, target_field, return_resids = None):\n",
    "    model = OLS(train_sample[target_field], train_sample[factors]).fit()\n",
    "    if return_resids:\n",
    "        predictions_test = model.predict(test_sample[factors])\n",
    "        resids_test = test_sample[target_field] - predictions_test\n",
    "        resids_train = model.resid\n",
    "        return resids_train, resids_test\n",
    "    else:\n",
    "        predictions_train = model.predict()\n",
    "        predictions_test = model.predict(test_sample[factors])\n",
    "        mae_train = mae(train_sample[target_field], predictions_train)\n",
    "        mae_test = mae(test_sample[target_field], predictions_test)\n",
    "        return model, mae_train, mae_test"
   ]
  },
  {
   "cell_type": "code",
   "execution_count": 13,
   "id": "7a20f75c",
   "metadata": {},
   "outputs": [],
   "source": [
    "def make_info(bond_name):\n",
    "    sample = make_dataset_for_bond(bond_name)\n",
    "    sample = sample.diff().dropna(axis='rows')\n",
    "    sample['const'] = 1\n",
    "    sample_train, sample_test = sample.loc[:'2016-01-29'], sample.loc['2016-02':]\n",
    "    print(sample_test.shape)\n",
    "    #### Variables definition ##########\n",
    "    liquidity_vars = ['log_PD','RVI','log_TC'] #level #RVI \n",
    "    credit_risk_factors = ['CDS', 'curvature'] #curvature\n",
    "    #### Models ########\n",
    "    ## All variables\n",
    "    all_vars = liquidity_vars + credit_risk_factors\n",
    "    #sample_train[all_vars + ['target']].to_excel(os.path.join(base_path, \n",
    "    #                                                          f'files_for_stata/{bond_name}.xlsx')) #For stata\n",
    "    model_all, mae_train_all, mae_test_all = make_model(sample_train, sample_test, all_vars, 'target')\n",
    "    ## Only credit risk factors ####\n",
    "    model_credit, mae_train_credit, mae_test_credit = make_model(sample_train, sample_test,\n",
    "                                                                 credit_risk_factors, 'target')\n",
    "    ## liquidity influence after extracting credit risk factors ###\n",
    "    #resids_tr, resids_ts = make_model(sample_train, sample_test, \n",
    "    #                                  credit_risk_factors, 'target', return_resids = True)\n",
    "    #sample_train['residuals'] = resids_tr\n",
    "    #sample_test['residuals'] = resids_ts\n",
    "    #model_liq, mae_train_liq, mae_test_liq = make_model(sample_train, sample_test,\n",
    "    #                                                             liquidity_vars, 'residuals')\n",
    "    ##### Liquidity model ###########\n",
    "    model_liq, mae_train_liq, mae_test_liq = make_model(sample_train, sample_test,\n",
    "                                                                 liquidity_vars, 'target')\n",
    "    summary_table = pd.DataFrame(index = ['train', 'test'], \n",
    "                                 columns = ['All variables', \n",
    "                                            'Credit Risk Factors', \n",
    "                                            'Liquidity factors']) #Pure liquidity Factors influence\n",
    "    summary_table.loc['train', 'All variables'] = mae_train_all\n",
    "    summary_table.loc['test', 'All variables'] = mae_test_all \n",
    "    \n",
    "    summary_table.loc['train', 'Credit Risk Factors'] = mae_train_credit\n",
    "    summary_table.loc['test', 'Credit Risk Factors'] = mae_test_credit\n",
    "    \n",
    "    summary_table.loc['train', 'Liquidity factors'] = mae_train_liq\n",
    "    summary_table.loc['test', 'Liquidity factors'] = mae_test_liq\n",
    "    return summary_table, model_all, model_credit, model_liq, sample[all_vars + ['target']].corr() \n",
    "    "
   ]
  },
  {
   "cell_type": "code",
   "execution_count": 14,
   "id": "264f66de",
   "metadata": {},
   "outputs": [
    {
     "name": "stdout",
     "output_type": "stream",
     "text": [
      "(15, 18)\n"
     ]
    }
   ],
   "source": [
    "table, all_, credit, liq, corr_factors = make_info('SU26214RMFS')"
   ]
  },
  {
   "cell_type": "code",
   "execution_count": 15,
   "id": "7f60e07b",
   "metadata": {},
   "outputs": [
    {
     "data": {
      "text/html": [
       "<div>\n",
       "<style scoped>\n",
       "    .dataframe tbody tr th:only-of-type {\n",
       "        vertical-align: middle;\n",
       "    }\n",
       "\n",
       "    .dataframe tbody tr th {\n",
       "        vertical-align: top;\n",
       "    }\n",
       "\n",
       "    .dataframe thead th {\n",
       "        text-align: right;\n",
       "    }\n",
       "</style>\n",
       "<table border=\"1\" class=\"dataframe\">\n",
       "  <thead>\n",
       "    <tr style=\"text-align: right;\">\n",
       "      <th></th>\n",
       "      <th>All variables</th>\n",
       "      <th>Credit Risk Factors</th>\n",
       "      <th>Liquidity factors</th>\n",
       "    </tr>\n",
       "  </thead>\n",
       "  <tbody>\n",
       "    <tr>\n",
       "      <th>train</th>\n",
       "      <td>8.640905</td>\n",
       "      <td>8.962793</td>\n",
       "      <td>9.116812</td>\n",
       "    </tr>\n",
       "    <tr>\n",
       "      <th>test</th>\n",
       "      <td>6.815201</td>\n",
       "      <td>7.235804</td>\n",
       "      <td>6.552055</td>\n",
       "    </tr>\n",
       "  </tbody>\n",
       "</table>\n",
       "</div>"
      ],
      "text/plain": [
       "      All variables Credit Risk Factors Liquidity factors\n",
       "train      8.640905            8.962793          9.116812\n",
       "test       6.815201            7.235804          6.552055"
      ]
     },
     "execution_count": 15,
     "metadata": {},
     "output_type": "execute_result"
    }
   ],
   "source": [
    "table"
   ]
  },
  {
   "cell_type": "code",
   "execution_count": 16,
   "id": "cadfa614",
   "metadata": {},
   "outputs": [
    {
     "data": {
      "text/html": [
       "<table class=\"simpletable\">\n",
       "<caption>OLS Regression Results</caption>\n",
       "<tr>\n",
       "  <th>Dep. Variable:</th>         <td>target</td>      <th>  R-squared (uncentered):</th>      <td>   0.254</td>\n",
       "</tr>\n",
       "<tr>\n",
       "  <th>Model:</th>                   <td>OLS</td>       <th>  Adj. R-squared (uncentered):</th> <td>   0.230</td>\n",
       "</tr>\n",
       "<tr>\n",
       "  <th>Method:</th>             <td>Least Squares</td>  <th>  F-statistic:       </th>          <td>   10.67</td>\n",
       "</tr>\n",
       "<tr>\n",
       "  <th>Date:</th>             <td>Wed, 27 Apr 2022</td> <th>  Prob (F-statistic):</th>          <td>7.65e-09</td>\n",
       "</tr>\n",
       "<tr>\n",
       "  <th>Time:</th>                 <td>23:40:05</td>     <th>  Log-Likelihood:    </th>          <td> -618.53</td>\n",
       "</tr>\n",
       "<tr>\n",
       "  <th>No. Observations:</th>      <td>   162</td>      <th>  AIC:               </th>          <td>   1247.</td>\n",
       "</tr>\n",
       "<tr>\n",
       "  <th>Df Residuals:</th>          <td>   157</td>      <th>  BIC:               </th>          <td>   1263.</td>\n",
       "</tr>\n",
       "<tr>\n",
       "  <th>Df Model:</th>              <td>     5</td>      <th>                     </th>              <td> </td>   \n",
       "</tr>\n",
       "<tr>\n",
       "  <th>Covariance Type:</th>      <td>nonrobust</td>    <th>                     </th>              <td> </td>   \n",
       "</tr>\n",
       "</table>\n",
       "<table class=\"simpletable\">\n",
       "<tr>\n",
       "      <td></td>         <th>coef</th>     <th>std err</th>      <th>t</th>      <th>P>|t|</th>  <th>[0.025</th>    <th>0.975]</th>  \n",
       "</tr>\n",
       "<tr>\n",
       "  <th>log_PD</th>    <td>    0.3143</td> <td>    0.554</td> <td>    0.567</td> <td> 0.572</td> <td>   -0.781</td> <td>    1.410</td>\n",
       "</tr>\n",
       "<tr>\n",
       "  <th>RVI</th>       <td>   -1.6847</td> <td>    0.410</td> <td>   -4.105</td> <td> 0.000</td> <td>   -2.495</td> <td>   -0.874</td>\n",
       "</tr>\n",
       "<tr>\n",
       "  <th>log_TC</th>    <td>   -0.4852</td> <td>    0.897</td> <td>   -0.541</td> <td> 0.589</td> <td>   -2.257</td> <td>    1.286</td>\n",
       "</tr>\n",
       "<tr>\n",
       "  <th>CDS</th>       <td>   -0.2422</td> <td>    0.097</td> <td>   -2.501</td> <td> 0.013</td> <td>   -0.434</td> <td>   -0.051</td>\n",
       "</tr>\n",
       "<tr>\n",
       "  <th>curvature</th> <td>    0.1198</td> <td>    0.037</td> <td>    3.216</td> <td> 0.002</td> <td>    0.046</td> <td>    0.193</td>\n",
       "</tr>\n",
       "</table>\n",
       "<table class=\"simpletable\">\n",
       "<tr>\n",
       "  <th>Omnibus:</th>       <td> 1.017</td> <th>  Durbin-Watson:     </th> <td>   2.333</td>\n",
       "</tr>\n",
       "<tr>\n",
       "  <th>Prob(Omnibus):</th> <td> 0.601</td> <th>  Jarque-Bera (JB):  </th> <td>   0.641</td>\n",
       "</tr>\n",
       "<tr>\n",
       "  <th>Skew:</th>          <td>-0.029</td> <th>  Prob(JB):          </th> <td>   0.726</td>\n",
       "</tr>\n",
       "<tr>\n",
       "  <th>Kurtosis:</th>      <td> 3.303</td> <th>  Cond. No.          </th> <td>    26.3</td>\n",
       "</tr>\n",
       "</table><br/><br/>Notes:<br/>[1] R² is computed without centering (uncentered) since the model does not contain a constant.<br/>[2] Standard Errors assume that the covariance matrix of the errors is correctly specified."
      ],
      "text/plain": [
       "<class 'statsmodels.iolib.summary.Summary'>\n",
       "\"\"\"\n",
       "                                 OLS Regression Results                                \n",
       "=======================================================================================\n",
       "Dep. Variable:                 target   R-squared (uncentered):                   0.254\n",
       "Model:                            OLS   Adj. R-squared (uncentered):              0.230\n",
       "Method:                 Least Squares   F-statistic:                              10.67\n",
       "Date:                Wed, 27 Apr 2022   Prob (F-statistic):                    7.65e-09\n",
       "Time:                        23:40:05   Log-Likelihood:                         -618.53\n",
       "No. Observations:                 162   AIC:                                      1247.\n",
       "Df Residuals:                     157   BIC:                                      1263.\n",
       "Df Model:                           5                                                  \n",
       "Covariance Type:            nonrobust                                                  \n",
       "==============================================================================\n",
       "                 coef    std err          t      P>|t|      [0.025      0.975]\n",
       "------------------------------------------------------------------------------\n",
       "log_PD         0.3143      0.554      0.567      0.572      -0.781       1.410\n",
       "RVI           -1.6847      0.410     -4.105      0.000      -2.495      -0.874\n",
       "log_TC        -0.4852      0.897     -0.541      0.589      -2.257       1.286\n",
       "CDS           -0.2422      0.097     -2.501      0.013      -0.434      -0.051\n",
       "curvature      0.1198      0.037      3.216      0.002       0.046       0.193\n",
       "==============================================================================\n",
       "Omnibus:                        1.017   Durbin-Watson:                   2.333\n",
       "Prob(Omnibus):                  0.601   Jarque-Bera (JB):                0.641\n",
       "Skew:                          -0.029   Prob(JB):                        0.726\n",
       "Kurtosis:                       3.303   Cond. No.                         26.3\n",
       "==============================================================================\n",
       "\n",
       "Notes:\n",
       "[1] R² is computed without centering (uncentered) since the model does not contain a constant.\n",
       "[2] Standard Errors assume that the covariance matrix of the errors is correctly specified.\n",
       "\"\"\""
      ]
     },
     "execution_count": 16,
     "metadata": {},
     "output_type": "execute_result"
    }
   ],
   "source": [
    "all_.summary()"
   ]
  },
  {
   "cell_type": "code",
   "execution_count": 45,
   "id": "7fdf0b63",
   "metadata": {},
   "outputs": [
    {
     "data": {
      "text/plain": [
       "0.06359706173849489"
      ]
     },
     "execution_count": 45,
     "metadata": {},
     "output_type": "execute_result"
    }
   ],
   "source": [
    "(credit).rsquared_adj #здесь коэффициенты очевидно смещены и несостоятельны. Поэтому стоит смотреть только на r^2"
   ]
  },
  {
   "cell_type": "code",
   "execution_count": 46,
   "id": "1a20c303",
   "metadata": {},
   "outputs": [
    {
     "data": {
      "text/html": [
       "<table class=\"simpletable\">\n",
       "<caption>OLS Regression Results</caption>\n",
       "<tr>\n",
       "  <th>Dep. Variable:</th>         <td>target</td>      <th>  R-squared (uncentered):</th>      <td>   0.069</td>\n",
       "</tr>\n",
       "<tr>\n",
       "  <th>Model:</th>                   <td>OLS</td>       <th>  Adj. R-squared (uncentered):</th> <td>   0.064</td>\n",
       "</tr>\n",
       "<tr>\n",
       "  <th>Method:</th>             <td>Least Squares</td>  <th>  F-statistic:       </th>          <td>   12.00</td>\n",
       "</tr>\n",
       "<tr>\n",
       "  <th>Date:</th>             <td>Wed, 27 Apr 2022</td> <th>  Prob (F-statistic):</th>          <td>0.000681</td>\n",
       "</tr>\n",
       "<tr>\n",
       "  <th>Time:</th>                 <td>01:27:20</td>     <th>  Log-Likelihood:    </th>          <td> -709.19</td>\n",
       "</tr>\n",
       "<tr>\n",
       "  <th>No. Observations:</th>      <td>   162</td>      <th>  AIC:               </th>          <td>   1420.</td>\n",
       "</tr>\n",
       "<tr>\n",
       "  <th>Df Residuals:</th>          <td>   161</td>      <th>  BIC:               </th>          <td>   1423.</td>\n",
       "</tr>\n",
       "<tr>\n",
       "  <th>Df Model:</th>              <td>     1</td>      <th>                     </th>              <td> </td>   \n",
       "</tr>\n",
       "<tr>\n",
       "  <th>Covariance Type:</th>      <td>nonrobust</td>    <th>                     </th>              <td> </td>   \n",
       "</tr>\n",
       "</table>\n",
       "<table class=\"simpletable\">\n",
       "<tr>\n",
       "   <td></td>      <th>coef</th>     <th>std err</th>      <th>t</th>      <th>P>|t|</th>  <th>[0.025</th>    <th>0.975]</th>  \n",
       "</tr>\n",
       "<tr>\n",
       "  <th>CDS</th> <td>   -0.5296</td> <td>    0.153</td> <td>   -3.464</td> <td> 0.001</td> <td>   -0.831</td> <td>   -0.228</td>\n",
       "</tr>\n",
       "</table>\n",
       "<table class=\"simpletable\">\n",
       "<tr>\n",
       "  <th>Omnibus:</th>       <td>19.161</td> <th>  Durbin-Watson:     </th> <td>   2.356</td>\n",
       "</tr>\n",
       "<tr>\n",
       "  <th>Prob(Omnibus):</th> <td> 0.000</td> <th>  Jarque-Bera (JB):  </th> <td>  45.023</td>\n",
       "</tr>\n",
       "<tr>\n",
       "  <th>Skew:</th>          <td>-0.466</td> <th>  Prob(JB):          </th> <td>1.67e-10</td>\n",
       "</tr>\n",
       "<tr>\n",
       "  <th>Kurtosis:</th>      <td> 5.408</td> <th>  Cond. No.          </th> <td>    1.00</td>\n",
       "</tr>\n",
       "</table><br/><br/>Notes:<br/>[1] R² is computed without centering (uncentered) since the model does not contain a constant.<br/>[2] Standard Errors assume that the covariance matrix of the errors is correctly specified."
      ],
      "text/plain": [
       "<class 'statsmodels.iolib.summary.Summary'>\n",
       "\"\"\"\n",
       "                                 OLS Regression Results                                \n",
       "=======================================================================================\n",
       "Dep. Variable:                 target   R-squared (uncentered):                   0.069\n",
       "Model:                            OLS   Adj. R-squared (uncentered):              0.064\n",
       "Method:                 Least Squares   F-statistic:                              12.00\n",
       "Date:                Wed, 27 Apr 2022   Prob (F-statistic):                    0.000681\n",
       "Time:                        01:27:20   Log-Likelihood:                         -709.19\n",
       "No. Observations:                 162   AIC:                                      1420.\n",
       "Df Residuals:                     161   BIC:                                      1423.\n",
       "Df Model:                           1                                                  \n",
       "Covariance Type:            nonrobust                                                  \n",
       "==============================================================================\n",
       "                 coef    std err          t      P>|t|      [0.025      0.975]\n",
       "------------------------------------------------------------------------------\n",
       "CDS           -0.5296      0.153     -3.464      0.001      -0.831      -0.228\n",
       "==============================================================================\n",
       "Omnibus:                       19.161   Durbin-Watson:                   2.356\n",
       "Prob(Omnibus):                  0.000   Jarque-Bera (JB):               45.023\n",
       "Skew:                          -0.466   Prob(JB):                     1.67e-10\n",
       "Kurtosis:                       5.408   Cond. No.                         1.00\n",
       "==============================================================================\n",
       "\n",
       "Notes:\n",
       "[1] R² is computed without centering (uncentered) since the model does not contain a constant.\n",
       "[2] Standard Errors assume that the covariance matrix of the errors is correctly specified.\n",
       "\"\"\""
      ]
     },
     "execution_count": 46,
     "metadata": {},
     "output_type": "execute_result"
    }
   ],
   "source": [
    "credit.summary()"
   ]
  },
  {
   "cell_type": "code",
   "execution_count": 33,
   "id": "cacc56c7",
   "metadata": {},
   "outputs": [
    {
     "data": {
      "text/plain": [
       "-0.008279700868260464"
      ]
     },
     "execution_count": 33,
     "metadata": {},
     "output_type": "execute_result"
    }
   ],
   "source": [
    "liq.rsquared_adj"
   ]
  },
  {
   "cell_type": "code",
   "execution_count": 34,
   "id": "d824ee39",
   "metadata": {},
   "outputs": [
    {
     "data": {
      "text/html": [
       "<table class=\"simpletable\">\n",
       "<caption>OLS Regression Results</caption>\n",
       "<tr>\n",
       "  <th>Dep. Variable:</th>         <td>target</td>      <th>  R-squared (uncentered):</th>      <td>   0.010</td>\n",
       "</tr>\n",
       "<tr>\n",
       "  <th>Model:</th>                   <td>OLS</td>       <th>  Adj. R-squared (uncentered):</th> <td>  -0.008</td>\n",
       "</tr>\n",
       "<tr>\n",
       "  <th>Method:</th>             <td>Least Squares</td>  <th>  F-statistic:       </th>          <td>  0.5566</td>\n",
       "</tr>\n",
       "<tr>\n",
       "  <th>Date:</th>             <td>Wed, 27 Apr 2022</td> <th>  Prob (F-statistic):</th>           <td> 0.644</td> \n",
       "</tr>\n",
       "<tr>\n",
       "  <th>Time:</th>                 <td>01:21:44</td>     <th>  Log-Likelihood:    </th>          <td> -714.17</td>\n",
       "</tr>\n",
       "<tr>\n",
       "  <th>No. Observations:</th>      <td>   162</td>      <th>  AIC:               </th>          <td>   1434.</td>\n",
       "</tr>\n",
       "<tr>\n",
       "  <th>Df Residuals:</th>          <td>   159</td>      <th>  BIC:               </th>          <td>   1444.</td>\n",
       "</tr>\n",
       "<tr>\n",
       "  <th>Df Model:</th>              <td>     3</td>      <th>                     </th>              <td> </td>   \n",
       "</tr>\n",
       "<tr>\n",
       "  <th>Covariance Type:</th>      <td>nonrobust</td>    <th>                     </th>              <td> </td>   \n",
       "</tr>\n",
       "</table>\n",
       "<table class=\"simpletable\">\n",
       "<tr>\n",
       "     <td></td>       <th>coef</th>     <th>std err</th>      <th>t</th>      <th>P>|t|</th>  <th>[0.025</th>    <th>0.975]</th>  \n",
       "</tr>\n",
       "<tr>\n",
       "  <th>log_PD</th> <td>    0.8994</td> <td>    1.495</td> <td>    0.601</td> <td> 0.548</td> <td>   -2.054</td> <td>    3.853</td>\n",
       "</tr>\n",
       "<tr>\n",
       "  <th>RVI</th>    <td>   -0.8581</td> <td>    0.709</td> <td>   -1.210</td> <td> 0.228</td> <td>   -2.258</td> <td>    0.542</td>\n",
       "</tr>\n",
       "<tr>\n",
       "  <th>log_TC</th> <td>   -0.9599</td> <td>    2.373</td> <td>   -0.405</td> <td> 0.686</td> <td>   -5.646</td> <td>    3.726</td>\n",
       "</tr>\n",
       "</table>\n",
       "<table class=\"simpletable\">\n",
       "<tr>\n",
       "  <th>Omnibus:</th>       <td>19.659</td> <th>  Durbin-Watson:     </th> <td>   2.428</td>\n",
       "</tr>\n",
       "<tr>\n",
       "  <th>Prob(Omnibus):</th> <td> 0.000</td> <th>  Jarque-Bera (JB):  </th> <td>  46.908</td>\n",
       "</tr>\n",
       "<tr>\n",
       "  <th>Skew:</th>          <td>-0.476</td> <th>  Prob(JB):          </th> <td>6.52e-11</td>\n",
       "</tr>\n",
       "<tr>\n",
       "  <th>Kurtosis:</th>      <td> 5.458</td> <th>  Cond. No.          </th> <td>    3.46</td>\n",
       "</tr>\n",
       "</table><br/><br/>Notes:<br/>[1] R² is computed without centering (uncentered) since the model does not contain a constant.<br/>[2] Standard Errors assume that the covariance matrix of the errors is correctly specified."
      ],
      "text/plain": [
       "<class 'statsmodels.iolib.summary.Summary'>\n",
       "\"\"\"\n",
       "                                 OLS Regression Results                                \n",
       "=======================================================================================\n",
       "Dep. Variable:                 target   R-squared (uncentered):                   0.010\n",
       "Model:                            OLS   Adj. R-squared (uncentered):             -0.008\n",
       "Method:                 Least Squares   F-statistic:                             0.5566\n",
       "Date:                Wed, 27 Apr 2022   Prob (F-statistic):                       0.644\n",
       "Time:                        01:21:44   Log-Likelihood:                         -714.17\n",
       "No. Observations:                 162   AIC:                                      1434.\n",
       "Df Residuals:                     159   BIC:                                      1444.\n",
       "Df Model:                           3                                                  \n",
       "Covariance Type:            nonrobust                                                  \n",
       "==============================================================================\n",
       "                 coef    std err          t      P>|t|      [0.025      0.975]\n",
       "------------------------------------------------------------------------------\n",
       "log_PD         0.8994      1.495      0.601      0.548      -2.054       3.853\n",
       "RVI           -0.8581      0.709     -1.210      0.228      -2.258       0.542\n",
       "log_TC        -0.9599      2.373     -0.405      0.686      -5.646       3.726\n",
       "==============================================================================\n",
       "Omnibus:                       19.659   Durbin-Watson:                   2.428\n",
       "Prob(Omnibus):                  0.000   Jarque-Bera (JB):               46.908\n",
       "Skew:                          -0.476   Prob(JB):                     6.52e-11\n",
       "Kurtosis:                       5.458   Cond. No.                         3.46\n",
       "==============================================================================\n",
       "\n",
       "Notes:\n",
       "[1] R² is computed without centering (uncentered) since the model does not contain a constant.\n",
       "[2] Standard Errors assume that the covariance matrix of the errors is correctly specified.\n",
       "\"\"\""
      ]
     },
     "execution_count": 34,
     "metadata": {},
     "output_type": "execute_result"
    }
   ],
   "source": [
    "liq.summary()"
   ]
  },
  {
   "cell_type": "code",
   "execution_count": 140,
   "id": "a3be2c1a",
   "metadata": {},
   "outputs": [
    {
     "data": {
      "text/html": [
       "<div>\n",
       "<style scoped>\n",
       "    .dataframe tbody tr th:only-of-type {\n",
       "        vertical-align: middle;\n",
       "    }\n",
       "\n",
       "    .dataframe tbody tr th {\n",
       "        vertical-align: top;\n",
       "    }\n",
       "\n",
       "    .dataframe thead th {\n",
       "        text-align: right;\n",
       "    }\n",
       "</style>\n",
       "<table border=\"1\" class=\"dataframe\">\n",
       "  <thead>\n",
       "    <tr style=\"text-align: right;\">\n",
       "      <th></th>\n",
       "      <th>log_PD</th>\n",
       "      <th>RVI</th>\n",
       "      <th>level</th>\n",
       "      <th>log_TC</th>\n",
       "      <th>CDS</th>\n",
       "      <th>curvature</th>\n",
       "      <th>target</th>\n",
       "    </tr>\n",
       "  </thead>\n",
       "  <tbody>\n",
       "    <tr>\n",
       "      <th>log_PD</th>\n",
       "      <td>1.000000</td>\n",
       "      <td>-0.139065</td>\n",
       "      <td>0.046188</td>\n",
       "      <td>-0.198214</td>\n",
       "      <td>0.066130</td>\n",
       "      <td>-0.053838</td>\n",
       "      <td>0.062198</td>\n",
       "    </tr>\n",
       "    <tr>\n",
       "      <th>RVI</th>\n",
       "      <td>-0.139065</td>\n",
       "      <td>1.000000</td>\n",
       "      <td>0.424584</td>\n",
       "      <td>-0.054068</td>\n",
       "      <td>0.301556</td>\n",
       "      <td>-0.065615</td>\n",
       "      <td>-0.381601</td>\n",
       "    </tr>\n",
       "    <tr>\n",
       "      <th>level</th>\n",
       "      <td>0.046188</td>\n",
       "      <td>0.424584</td>\n",
       "      <td>1.000000</td>\n",
       "      <td>-0.040473</td>\n",
       "      <td>0.486395</td>\n",
       "      <td>-0.652666</td>\n",
       "      <td>-0.733345</td>\n",
       "    </tr>\n",
       "    <tr>\n",
       "      <th>log_TC</th>\n",
       "      <td>-0.198214</td>\n",
       "      <td>-0.054068</td>\n",
       "      <td>-0.040473</td>\n",
       "      <td>1.000000</td>\n",
       "      <td>-0.163241</td>\n",
       "      <td>-0.057103</td>\n",
       "      <td>-0.022558</td>\n",
       "    </tr>\n",
       "    <tr>\n",
       "      <th>CDS</th>\n",
       "      <td>0.066130</td>\n",
       "      <td>0.301556</td>\n",
       "      <td>0.486395</td>\n",
       "      <td>-0.163241</td>\n",
       "      <td>1.000000</td>\n",
       "      <td>-0.233223</td>\n",
       "      <td>-0.320118</td>\n",
       "    </tr>\n",
       "    <tr>\n",
       "      <th>curvature</th>\n",
       "      <td>-0.053838</td>\n",
       "      <td>-0.065615</td>\n",
       "      <td>-0.652666</td>\n",
       "      <td>-0.057103</td>\n",
       "      <td>-0.233223</td>\n",
       "      <td>1.000000</td>\n",
       "      <td>0.292300</td>\n",
       "    </tr>\n",
       "    <tr>\n",
       "      <th>target</th>\n",
       "      <td>0.062198</td>\n",
       "      <td>-0.381601</td>\n",
       "      <td>-0.733345</td>\n",
       "      <td>-0.022558</td>\n",
       "      <td>-0.320118</td>\n",
       "      <td>0.292300</td>\n",
       "      <td>1.000000</td>\n",
       "    </tr>\n",
       "  </tbody>\n",
       "</table>\n",
       "</div>"
      ],
      "text/plain": [
       "             log_PD       RVI     level    log_TC       CDS  curvature  \\\n",
       "log_PD     1.000000 -0.139065  0.046188 -0.198214  0.066130  -0.053838   \n",
       "RVI       -0.139065  1.000000  0.424584 -0.054068  0.301556  -0.065615   \n",
       "level      0.046188  0.424584  1.000000 -0.040473  0.486395  -0.652666   \n",
       "log_TC    -0.198214 -0.054068 -0.040473  1.000000 -0.163241  -0.057103   \n",
       "CDS        0.066130  0.301556  0.486395 -0.163241  1.000000  -0.233223   \n",
       "curvature -0.053838 -0.065615 -0.652666 -0.057103 -0.233223   1.000000   \n",
       "target     0.062198 -0.381601 -0.733345 -0.022558 -0.320118   0.292300   \n",
       "\n",
       "             target  \n",
       "log_PD     0.062198  \n",
       "RVI       -0.381601  \n",
       "level     -0.733345  \n",
       "log_TC    -0.022558  \n",
       "CDS       -0.320118  \n",
       "curvature  0.292300  \n",
       "target     1.000000  "
      ]
     },
     "execution_count": 140,
     "metadata": {},
     "output_type": "execute_result"
    }
   ],
   "source": [
    "corr_factors"
   ]
  },
  {
   "cell_type": "code",
   "execution_count": 141,
   "id": "4d867a97",
   "metadata": {},
   "outputs": [],
   "source": [
    "corr_factors.to_excel(os.path.join(base_path, 'stats/26214_corr.xlsx'))"
   ]
  },
  {
   "cell_type": "code",
   "execution_count": 24,
   "id": "a9bd5561",
   "metadata": {},
   "outputs": [],
   "source": [
    "df = make_dataset_for_bond('SU26214RMFS')\n",
    "df = df.diff().dropna(axis='rows')\n",
    "df = df.drop(columns = ['RVI_struct_coef',\n",
    "                       'dummy_struct_Jan', 'CDS_new_slope', 'CDS_dummy', 'LT_TC', 'LT_PD', 'LT_BA', 'TR',\n",
    "                       'log_BA', 'slope']) #slope"
   ]
  },
  {
   "cell_type": "code",
   "execution_count": 25,
   "id": "ee97e48d",
   "metadata": {},
   "outputs": [
    {
     "data": {
      "text/plain": [
       "log_TC       1.088749\n",
       "log_PD       1.096758\n",
       "CDS          1.389262\n",
       "RVI          1.403653\n",
       "curvature    2.262469\n",
       "target       2.589985\n",
       "level        5.309002\n",
       "dtype: float64"
      ]
     },
     "execution_count": 25,
     "metadata": {},
     "output_type": "execute_result"
    }
   ],
   "source": [
    "from statsmodels.stats.outliers_influence import variance_inflation_factor\n",
    "from statsmodels.tools.tools import add_constant\n",
    "\n",
    "pd.Series([variance_inflation_factor(df.values, i) \n",
    "               for i in range(df.shape[1])], \n",
    "              index=df.columns).sort_values()"
   ]
  },
  {
   "cell_type": "code",
   "execution_count": 175,
   "id": "573ddbfb",
   "metadata": {},
   "outputs": [],
   "source": [
    "df.corr().to_excel(os.path.join(base_path, 'stats/26214_corr.xlsx'))"
   ]
  },
  {
   "cell_type": "code",
   "execution_count": 26,
   "id": "0667191d",
   "metadata": {},
   "outputs": [
    {
     "data": {
      "text/plain": [
       "<AxesSubplot:xlabel='curvature', ylabel='target'>"
      ]
     },
     "execution_count": 26,
     "metadata": {},
     "output_type": "execute_result"
    },
    {
     "data": {
      "image/png": "[encoded data removed]",
      "text/plain": [
       "<Figure size 432x288 with 1 Axes>"
      ]
     },
     "metadata": {
      "needs_background": "light"
     },
     "output_type": "display_data"
    }
   ],
   "source": [
    "sns.regplot(x = df['curvature'], y = df['target'])"
   ]
  },
  {
   "cell_type": "code",
   "execution_count": 221,
   "id": "f247dbe9",
   "metadata": {},
   "outputs": [
    {
     "data": {
      "text/plain": [
       "<AxesSubplot:xlabel='Date', ylabel='target'>"
      ]
     },
     "execution_count": 221,
     "metadata": {},
     "output_type": "execute_result"
    },
    {
     "data": {
      "image/png": "[encoded data removed]",
      "text/plain": [
       "<Figure size 1080x504 with 1 Axes>"
      ]
     },
     "metadata": {
      "needs_background": "light"
     },
     "output_type": "display_data"
    }
   ],
   "source": [
    "fig, ax = plt.subplots(figsize=(15,7))\n",
    "sns.lineplot(x = df['RVI'].index, y = df['RVI'].values, label='RVI')\n",
    "sns.lineplot(data = df['target'], label='target')"
   ]
  },
  {
   "cell_type": "code",
   "execution_count": 173,
   "id": "6a25c7fd",
   "metadata": {},
   "outputs": [
    {
     "data": {
      "text/plain": [
       "<AxesSubplot:xlabel='Date'>"
      ]
     },
     "execution_count": 173,
     "metadata": {},
     "output_type": "execute_result"
    },
    {
     "data": {
      "image/png": "[encoded data removed]",
      "text/plain": [
       "<Figure size 432x288 with 1 Axes>"
      ]
     },
     "metadata": {
      "needs_background": "light"
     },
     "output_type": "display_data"
    }
   ],
   "source": [
    "sns.lineplot(data = curve.diff())"
   ]
  },
  {
   "cell_type": "code",
   "execution_count": null,
   "id": "b40a8834",
   "metadata": {},
   "outputs": [],
   "source": []
  }
 ],
 "metadata": {
  "kernelspec": {
   "display_name": "Python 3",
   "language": "python",
   "name": "python3"
  },
  "language_info": {
   "codemirror_mode": {
    "name": "ipython",
    "version": 3
   },
   "file_extension": ".py",
   "mimetype": "text/x-python",
   "name": "python",
   "nbconvert_exporter": "python",
   "pygments_lexer": "ipython3",
   "version": "3.8.8"
  }
 },
 "nbformat": 4,
 "nbformat_minor": 5
}
